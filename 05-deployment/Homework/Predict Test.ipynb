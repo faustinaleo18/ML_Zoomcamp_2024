{
 "cells": [
  {
   "cell_type": "code",
   "execution_count": 3,
   "id": "cfa5ebf2-01bd-49e0-b572-c52e7dbcfdfa",
   "metadata": {},
   "outputs": [],
   "source": [
    "import requests"
   ]
  },
  {
   "cell_type": "code",
   "execution_count": 5,
   "id": "b7b4f3a1-3cce-443a-bc80-0a62a926f7da",
   "metadata": {},
   "outputs": [],
   "source": [
    "url = \"http://localhost:9696/predict\""
   ]
  },
  {
   "cell_type": "code",
   "execution_count": 15,
   "id": "9085897a-c8fa-4878-8b83-ac74dd9d0cd6",
   "metadata": {},
   "outputs": [],
   "source": [
    "client = {\n",
    "    \"job\": \"student\", \n",
    "    \"duration\": 280, \n",
    "    \"poutcome\": \"failure\"\n",
    "}"
   ]
  },
  {
   "cell_type": "code",
   "execution_count": 21,
   "id": "1dc33b3d-9eb9-4622-a3e0-76851bce94d8",
   "metadata": {},
   "outputs": [
    {
     "data": {
      "text/plain": [
       "{'probability': 0.33480703475511053, 'result': False}"
      ]
     },
     "execution_count": 21,
     "metadata": {},
     "output_type": "execute_result"
    }
   ],
   "source": [
    "response = requests.post(url, json = client).json()\n",
    "response"
   ]
  }
 ],
 "metadata": {
  "kernelspec": {
   "display_name": "Python 3 (ipykernel)",
   "language": "python",
   "name": "python3"
  },
  "language_info": {
   "codemirror_mode": {
    "name": "ipython",
    "version": 3
   },
   "file_extension": ".py",
   "mimetype": "text/x-python",
   "name": "python",
   "nbconvert_exporter": "python",
   "pygments_lexer": "ipython3",
   "version": "3.11.5"
  }
 },
 "nbformat": 4,
 "nbformat_minor": 5
}
