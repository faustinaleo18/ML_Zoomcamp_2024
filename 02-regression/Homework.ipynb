{
 "cells": [
  {
   "cell_type": "code",
   "execution_count": 1,
   "id": "1774391b-6965-4651-8913-29f292c4d892",
   "metadata": {},
   "outputs": [],
   "source": [
    "import numpy as np\n",
    "import pandas as pd"
   ]
  },
  {
   "cell_type": "code",
   "execution_count": 2,
   "id": "e08df156-a95f-49f4-a1b4-65ff02c2e668",
   "metadata": {},
   "outputs": [],
   "source": [
    "# !python -m wget https://raw.githubusercontent.com/alexeygrigorev/datasets/master/laptops.csv"
   ]
  },
  {
   "cell_type": "code",
   "execution_count": 3,
   "id": "361de6c0-ad39-4fce-960f-59619871bd21",
   "metadata": {},
   "outputs": [
    {
     "data": {
      "text/html": [
       "<div>\n",
       "<style scoped>\n",
       "    .dataframe tbody tr th:only-of-type {\n",
       "        vertical-align: middle;\n",
       "    }\n",
       "\n",
       "    .dataframe tbody tr th {\n",
       "        vertical-align: top;\n",
       "    }\n",
       "\n",
       "    .dataframe thead th {\n",
       "        text-align: right;\n",
       "    }\n",
       "</style>\n",
       "<table border=\"1\" class=\"dataframe\">\n",
       "  <thead>\n",
       "    <tr style=\"text-align: right;\">\n",
       "      <th></th>\n",
       "      <th>Laptop</th>\n",
       "      <th>Status</th>\n",
       "      <th>Brand</th>\n",
       "      <th>Model</th>\n",
       "      <th>CPU</th>\n",
       "      <th>RAM</th>\n",
       "      <th>Storage</th>\n",
       "      <th>Storage type</th>\n",
       "      <th>GPU</th>\n",
       "      <th>Screen</th>\n",
       "      <th>Touch</th>\n",
       "      <th>Final Price</th>\n",
       "    </tr>\n",
       "  </thead>\n",
       "  <tbody>\n",
       "    <tr>\n",
       "      <th>0</th>\n",
       "      <td>ASUS ExpertBook B1 B1502CBA-EJ0436X Intel Core...</td>\n",
       "      <td>New</td>\n",
       "      <td>Asus</td>\n",
       "      <td>ExpertBook</td>\n",
       "      <td>Intel Core i5</td>\n",
       "      <td>8</td>\n",
       "      <td>512</td>\n",
       "      <td>SSD</td>\n",
       "      <td>NaN</td>\n",
       "      <td>15.6</td>\n",
       "      <td>No</td>\n",
       "      <td>1009.00</td>\n",
       "    </tr>\n",
       "    <tr>\n",
       "      <th>1</th>\n",
       "      <td>Alurin Go Start Intel Celeron N4020/8GB/256GB ...</td>\n",
       "      <td>New</td>\n",
       "      <td>Alurin</td>\n",
       "      <td>Go</td>\n",
       "      <td>Intel Celeron</td>\n",
       "      <td>8</td>\n",
       "      <td>256</td>\n",
       "      <td>SSD</td>\n",
       "      <td>NaN</td>\n",
       "      <td>15.6</td>\n",
       "      <td>No</td>\n",
       "      <td>299.00</td>\n",
       "    </tr>\n",
       "    <tr>\n",
       "      <th>2</th>\n",
       "      <td>ASUS ExpertBook B1 B1502CBA-EJ0424X Intel Core...</td>\n",
       "      <td>New</td>\n",
       "      <td>Asus</td>\n",
       "      <td>ExpertBook</td>\n",
       "      <td>Intel Core i3</td>\n",
       "      <td>8</td>\n",
       "      <td>256</td>\n",
       "      <td>SSD</td>\n",
       "      <td>NaN</td>\n",
       "      <td>15.6</td>\n",
       "      <td>No</td>\n",
       "      <td>789.00</td>\n",
       "    </tr>\n",
       "    <tr>\n",
       "      <th>3</th>\n",
       "      <td>MSI Katana GF66 12UC-082XES Intel Core i7-1270...</td>\n",
       "      <td>New</td>\n",
       "      <td>MSI</td>\n",
       "      <td>Katana</td>\n",
       "      <td>Intel Core i7</td>\n",
       "      <td>16</td>\n",
       "      <td>1000</td>\n",
       "      <td>SSD</td>\n",
       "      <td>RTX 3050</td>\n",
       "      <td>15.6</td>\n",
       "      <td>No</td>\n",
       "      <td>1199.00</td>\n",
       "    </tr>\n",
       "    <tr>\n",
       "      <th>4</th>\n",
       "      <td>HP 15S-FQ5085NS Intel Core i5-1235U/16GB/512GB...</td>\n",
       "      <td>New</td>\n",
       "      <td>HP</td>\n",
       "      <td>15S</td>\n",
       "      <td>Intel Core i5</td>\n",
       "      <td>16</td>\n",
       "      <td>512</td>\n",
       "      <td>SSD</td>\n",
       "      <td>NaN</td>\n",
       "      <td>15.6</td>\n",
       "      <td>No</td>\n",
       "      <td>669.01</td>\n",
       "    </tr>\n",
       "  </tbody>\n",
       "</table>\n",
       "</div>"
      ],
      "text/plain": [
       "                                              Laptop Status   Brand  \\\n",
       "0  ASUS ExpertBook B1 B1502CBA-EJ0436X Intel Core...    New    Asus   \n",
       "1  Alurin Go Start Intel Celeron N4020/8GB/256GB ...    New  Alurin   \n",
       "2  ASUS ExpertBook B1 B1502CBA-EJ0424X Intel Core...    New    Asus   \n",
       "3  MSI Katana GF66 12UC-082XES Intel Core i7-1270...    New     MSI   \n",
       "4  HP 15S-FQ5085NS Intel Core i5-1235U/16GB/512GB...    New      HP   \n",
       "\n",
       "        Model            CPU  RAM  Storage Storage type       GPU  Screen  \\\n",
       "0  ExpertBook  Intel Core i5    8      512          SSD       NaN    15.6   \n",
       "1          Go  Intel Celeron    8      256          SSD       NaN    15.6   \n",
       "2  ExpertBook  Intel Core i3    8      256          SSD       NaN    15.6   \n",
       "3      Katana  Intel Core i7   16     1000          SSD  RTX 3050    15.6   \n",
       "4         15S  Intel Core i5   16      512          SSD       NaN    15.6   \n",
       "\n",
       "  Touch  Final Price  \n",
       "0    No      1009.00  \n",
       "1    No       299.00  \n",
       "2    No       789.00  \n",
       "3    No      1199.00  \n",
       "4    No       669.01  "
      ]
     },
     "execution_count": 3,
     "metadata": {},
     "output_type": "execute_result"
    }
   ],
   "source": [
    "df = pd.read_csv(\"laptops.csv\")\n",
    "df.head()"
   ]
  },
  {
   "cell_type": "code",
   "execution_count": 4,
   "id": "1d307b3b-51f4-43e6-89a3-5f8b6757831c",
   "metadata": {},
   "outputs": [
    {
     "data": {
      "text/plain": [
       "2160"
      ]
     },
     "execution_count": 4,
     "metadata": {},
     "output_type": "execute_result"
    }
   ],
   "source": [
    "len(df)"
   ]
  },
  {
   "cell_type": "code",
   "execution_count": 5,
   "id": "526aff42-9684-4ca9-a165-1441e229c642",
   "metadata": {},
   "outputs": [
    {
     "data": {
      "text/plain": [
       "Index(['laptop', 'status', 'brand', 'model', 'cpu', 'ram', 'storage',\n",
       "       'storage_type', 'gpu', 'screen', 'touch', 'final_price'],\n",
       "      dtype='object')"
      ]
     },
     "execution_count": 5,
     "metadata": {},
     "output_type": "execute_result"
    }
   ],
   "source": [
    "df.columns = df.columns.str.lower().str.replace(' ', '_')\n",
    "df.columns"
   ]
  },
  {
   "cell_type": "code",
   "execution_count": 6,
   "id": "86a06ce1-2a8b-4adb-b7a8-711b75061109",
   "metadata": {},
   "outputs": [],
   "source": [
    "selected_cols = [\"ram\", \"storage\", \"screen\", \"final_price\"]"
   ]
  },
  {
   "cell_type": "code",
   "execution_count": 7,
   "id": "4d29243f-5573-4193-b38d-d7cd7865ecca",
   "metadata": {},
   "outputs": [
    {
     "data": {
      "text/html": [
       "<div>\n",
       "<style scoped>\n",
       "    .dataframe tbody tr th:only-of-type {\n",
       "        vertical-align: middle;\n",
       "    }\n",
       "\n",
       "    .dataframe tbody tr th {\n",
       "        vertical-align: top;\n",
       "    }\n",
       "\n",
       "    .dataframe thead th {\n",
       "        text-align: right;\n",
       "    }\n",
       "</style>\n",
       "<table border=\"1\" class=\"dataframe\">\n",
       "  <thead>\n",
       "    <tr style=\"text-align: right;\">\n",
       "      <th></th>\n",
       "      <th>ram</th>\n",
       "      <th>storage</th>\n",
       "      <th>screen</th>\n",
       "      <th>final_price</th>\n",
       "    </tr>\n",
       "  </thead>\n",
       "  <tbody>\n",
       "    <tr>\n",
       "      <th>0</th>\n",
       "      <td>8</td>\n",
       "      <td>512</td>\n",
       "      <td>15.6</td>\n",
       "      <td>1009.00</td>\n",
       "    </tr>\n",
       "    <tr>\n",
       "      <th>1</th>\n",
       "      <td>8</td>\n",
       "      <td>256</td>\n",
       "      <td>15.6</td>\n",
       "      <td>299.00</td>\n",
       "    </tr>\n",
       "    <tr>\n",
       "      <th>2</th>\n",
       "      <td>8</td>\n",
       "      <td>256</td>\n",
       "      <td>15.6</td>\n",
       "      <td>789.00</td>\n",
       "    </tr>\n",
       "    <tr>\n",
       "      <th>3</th>\n",
       "      <td>16</td>\n",
       "      <td>1000</td>\n",
       "      <td>15.6</td>\n",
       "      <td>1199.00</td>\n",
       "    </tr>\n",
       "    <tr>\n",
       "      <th>4</th>\n",
       "      <td>16</td>\n",
       "      <td>512</td>\n",
       "      <td>15.6</td>\n",
       "      <td>669.01</td>\n",
       "    </tr>\n",
       "  </tbody>\n",
       "</table>\n",
       "</div>"
      ],
      "text/plain": [
       "   ram  storage  screen  final_price\n",
       "0    8      512    15.6      1009.00\n",
       "1    8      256    15.6       299.00\n",
       "2    8      256    15.6       789.00\n",
       "3   16     1000    15.6      1199.00\n",
       "4   16      512    15.6       669.01"
      ]
     },
     "execution_count": 7,
     "metadata": {},
     "output_type": "execute_result"
    }
   ],
   "source": [
    "df[selected_cols].head()"
   ]
  },
  {
   "cell_type": "code",
   "execution_count": 8,
   "id": "cfaa1d0b-8ca8-431d-833f-e471934cbfcf",
   "metadata": {},
   "outputs": [],
   "source": [
    "import matplotlib.pyplot as plt\n",
    "import seaborn as sns\n",
    "\n",
    "%matplotlib inline"
   ]
  },
  {
   "cell_type": "code",
   "execution_count": 9,
   "id": "09a2c4d3-bb4a-4f6d-a18d-891501ac9bca",
   "metadata": {},
   "outputs": [
    {
     "data": {
      "text/plain": [
       "<Axes: xlabel='final_price', ylabel='Count'>"
      ]
     },
     "execution_count": 9,
     "metadata": {},
     "output_type": "execute_result"
    },
    {
     "data": {
      "image/png": "[encoded data removed]",
      "text/plain": [
       "<Figure size 640x480 with 1 Axes>"
      ]
     },
     "metadata": {},
     "output_type": "display_data"
    }
   ],
   "source": [
    "sns.histplot(df.final_price)"
   ]
  },
  {
   "cell_type": "markdown",
   "id": "e2f526ce-2f0f-428f-9a5b-1f529c008a93",
   "metadata": {},
   "source": [
    "### No. 1"
   ]
  },
  {
   "cell_type": "code",
   "execution_count": 11,
   "id": "33ceef59-05da-48d1-8fd1-d1432e75de41",
   "metadata": {},
   "outputs": [
    {
     "data": {
      "text/plain": [
       "ram            0\n",
       "storage        0\n",
       "screen         4\n",
       "final_price    0\n",
       "dtype: int64"
      ]
     },
     "execution_count": 11,
     "metadata": {},
     "output_type": "execute_result"
    }
   ],
   "source": [
    "df[selected_cols].isna().sum()"
   ]
  },
  {
   "cell_type": "markdown",
   "id": "3607fa6e-b249-4257-95d0-6e14c1c42871",
   "metadata": {},
   "source": [
    "### No. 2"
   ]
  },
  {
   "cell_type": "code",
   "execution_count": 13,
   "id": "cdcb3712-7462-4ad0-8c60-15a84b199628",
   "metadata": {},
   "outputs": [
    {
     "data": {
      "text/plain": [
       "16.0"
      ]
     },
     "execution_count": 13,
     "metadata": {},
     "output_type": "execute_result"
    }
   ],
   "source": [
    "df.ram.median()"
   ]
  },
  {
   "cell_type": "code",
   "execution_count": 14,
   "id": "9ff38019-ee19-4e0d-ba26-0436f42f4fe6",
   "metadata": {},
   "outputs": [
    {
     "data": {
      "text/plain": [
       "array([2079,  668, 2073, ..., 1130, 1294,  860])"
      ]
     },
     "execution_count": 14,
     "metadata": {},
     "output_type": "execute_result"
    }
   ],
   "source": [
    "index = np.arange(len(df))\n",
    "\n",
    "np.random.seed(42)\n",
    "np.random.shuffle(index)\n",
    "index"
   ]
  },
  {
   "cell_type": "code",
   "execution_count": 15,
   "id": "f372f66f-6cae-4d9f-934f-bf4ec7c9fc10",
   "metadata": {},
   "outputs": [],
   "source": [
    "n = len(df)\n",
    "\n",
    "n_val = int(n*0.2)\n",
    "n_test = int(n*0.2)\n",
    "n_train = n - n_val - n_test"
   ]
  },
  {
   "cell_type": "code",
   "execution_count": 16,
   "id": "4a2b6c6c-db4b-40b2-90a6-b5f0a2b878e6",
   "metadata": {},
   "outputs": [
    {
     "data": {
      "text/plain": [
       "(2160, 2160)"
      ]
     },
     "execution_count": 16,
     "metadata": {},
     "output_type": "execute_result"
    }
   ],
   "source": [
    "n, n_val+n_test+n_train"
   ]
  },
  {
   "cell_type": "code",
   "execution_count": 17,
   "id": "f4ef6bda-66a5-4f9b-954b-718480fac911",
   "metadata": {},
   "outputs": [],
   "source": [
    "train_data = df.iloc[index[:n_train]]\n",
    "val_data = df.iloc[index[n_train:n_train + n_val]]\n",
    "test_data = df.iloc[index[n_train + n_val:]]"
   ]
  },
  {
   "cell_type": "code",
   "execution_count": 18,
   "id": "425e465c-fc68-45a8-bab9-21a248c2b2e7",
   "metadata": {},
   "outputs": [],
   "source": [
    "train_data = train_data.reset_index(drop=True)\n",
    "val_data = val_data.reset_index(drop=True)\n",
    "test_data = test_data.reset_index(drop=True)"
   ]
  },
  {
   "cell_type": "code",
   "execution_count": 19,
   "id": "3871091a-1bd4-4479-b744-320b08d9fdfa",
   "metadata": {},
   "outputs": [
    {
     "data": {
      "text/plain": [
       "0       1009.00\n",
       "1        299.00\n",
       "2        789.00\n",
       "3       1199.00\n",
       "4        669.01\n",
       "         ...   \n",
       "2155    2699.99\n",
       "2156    2899.99\n",
       "2157    3399.99\n",
       "2158    1899.99\n",
       "2159    1699.99\n",
       "Name: final_price, Length: 2160, dtype: float64"
      ]
     },
     "execution_count": 19,
     "metadata": {},
     "output_type": "execute_result"
    }
   ],
   "source": [
    "final_price = df.final_price\n",
    "final_price"
   ]
  },
  {
   "cell_type": "code",
   "execution_count": 20,
   "id": "fe7fa39c-65ba-4dd5-b970-711a96068ee9",
   "metadata": {},
   "outputs": [],
   "source": [
    "y_train = train_data.final_price.values\n",
    "y_val = val_data.final_price.values\n",
    "y_test = test_data.final_price.values"
   ]
  },
  {
   "cell_type": "code",
   "execution_count": 21,
   "id": "058e6888-6b77-4cfe-8656-e173d1e6bb03",
   "metadata": {},
   "outputs": [],
   "source": [
    "del train_data[\"final_price\"]\n",
    "del val_data[\"final_price\"]\n",
    "del test_data[\"final_price\"]"
   ]
  },
  {
   "cell_type": "code",
   "execution_count": 22,
   "id": "86d1be94-c80d-49b4-9d6f-dd6549c10af9",
   "metadata": {},
   "outputs": [
    {
     "data": {
      "text/html": [
       "<div>\n",
       "<style scoped>\n",
       "    .dataframe tbody tr th:only-of-type {\n",
       "        vertical-align: middle;\n",
       "    }\n",
       "\n",
       "    .dataframe tbody tr th {\n",
       "        vertical-align: top;\n",
       "    }\n",
       "\n",
       "    .dataframe thead th {\n",
       "        text-align: right;\n",
       "    }\n",
       "</style>\n",
       "<table border=\"1\" class=\"dataframe\">\n",
       "  <thead>\n",
       "    <tr style=\"text-align: right;\">\n",
       "      <th></th>\n",
       "      <th>laptop</th>\n",
       "      <th>status</th>\n",
       "      <th>brand</th>\n",
       "      <th>model</th>\n",
       "      <th>cpu</th>\n",
       "      <th>ram</th>\n",
       "      <th>storage</th>\n",
       "      <th>storage_type</th>\n",
       "      <th>gpu</th>\n",
       "      <th>screen</th>\n",
       "      <th>touch</th>\n",
       "    </tr>\n",
       "  </thead>\n",
       "  <tbody>\n",
       "    <tr>\n",
       "      <th>0</th>\n",
       "      <td>MSI Modern 15 A11SBU-620XES Intel Core i7-1165...</td>\n",
       "      <td>Refurbished</td>\n",
       "      <td>MSI</td>\n",
       "      <td>Modern</td>\n",
       "      <td>Intel Core i7</td>\n",
       "      <td>32</td>\n",
       "      <td>1000</td>\n",
       "      <td>SSD</td>\n",
       "      <td>MX 450</td>\n",
       "      <td>15.6</td>\n",
       "      <td>No</td>\n",
       "    </tr>\n",
       "    <tr>\n",
       "      <th>1</th>\n",
       "      <td>Thomson Neo White Intel Celeron N4020/4GB/64GB...</td>\n",
       "      <td>New</td>\n",
       "      <td>Thomson</td>\n",
       "      <td>Neo</td>\n",
       "      <td>Intel Celeron</td>\n",
       "      <td>4</td>\n",
       "      <td>64</td>\n",
       "      <td>eMMC</td>\n",
       "      <td>NaN</td>\n",
       "      <td>14.1</td>\n",
       "      <td>No</td>\n",
       "    </tr>\n",
       "    <tr>\n",
       "      <th>2</th>\n",
       "      <td>MSI Modern 14 B11SB-420XES Intel Core i7-1165G...</td>\n",
       "      <td>Refurbished</td>\n",
       "      <td>MSI</td>\n",
       "      <td>Modern</td>\n",
       "      <td>Intel Core i7</td>\n",
       "      <td>32</td>\n",
       "      <td>1000</td>\n",
       "      <td>SSD</td>\n",
       "      <td>MX 450</td>\n",
       "      <td>14.0</td>\n",
       "      <td>No</td>\n",
       "    </tr>\n",
       "    <tr>\n",
       "      <th>3</th>\n",
       "      <td>ASUS ZenBook 13 OLED UX325EA Intel Evo Core i7...</td>\n",
       "      <td>New</td>\n",
       "      <td>Asus</td>\n",
       "      <td>ZenBook</td>\n",
       "      <td>Intel Evo Core i7</td>\n",
       "      <td>16</td>\n",
       "      <td>512</td>\n",
       "      <td>SSD</td>\n",
       "      <td>NaN</td>\n",
       "      <td>13.3</td>\n",
       "      <td>No</td>\n",
       "    </tr>\n",
       "    <tr>\n",
       "      <th>4</th>\n",
       "      <td>Acer Predator Triton 500 SE PT516-51s-75K6 Int...</td>\n",
       "      <td>New</td>\n",
       "      <td>Acer</td>\n",
       "      <td>Predator</td>\n",
       "      <td>Intel Core i7</td>\n",
       "      <td>32</td>\n",
       "      <td>1000</td>\n",
       "      <td>SSD</td>\n",
       "      <td>RTX 3080</td>\n",
       "      <td>16.0</td>\n",
       "      <td>No</td>\n",
       "    </tr>\n",
       "  </tbody>\n",
       "</table>\n",
       "</div>"
      ],
      "text/plain": [
       "                                              laptop       status    brand  \\\n",
       "0  MSI Modern 15 A11SBU-620XES Intel Core i7-1165...  Refurbished      MSI   \n",
       "1  Thomson Neo White Intel Celeron N4020/4GB/64GB...          New  Thomson   \n",
       "2  MSI Modern 14 B11SB-420XES Intel Core i7-1165G...  Refurbished      MSI   \n",
       "3  ASUS ZenBook 13 OLED UX325EA Intel Evo Core i7...          New     Asus   \n",
       "4  Acer Predator Triton 500 SE PT516-51s-75K6 Int...          New     Acer   \n",
       "\n",
       "      model                cpu  ram  storage storage_type       gpu  screen  \\\n",
       "0    Modern      Intel Core i7   32     1000          SSD    MX 450    15.6   \n",
       "1       Neo      Intel Celeron    4       64         eMMC       NaN    14.1   \n",
       "2    Modern      Intel Core i7   32     1000          SSD    MX 450    14.0   \n",
       "3   ZenBook  Intel Evo Core i7   16      512          SSD       NaN    13.3   \n",
       "4  Predator      Intel Core i7   32     1000          SSD  RTX 3080    16.0   \n",
       "\n",
       "  touch  \n",
       "0    No  \n",
       "1    No  \n",
       "2    No  \n",
       "3    No  \n",
       "4    No  "
      ]
     },
     "execution_count": 22,
     "metadata": {},
     "output_type": "execute_result"
    }
   ],
   "source": [
    "train_data.head()"
   ]
  },
  {
   "cell_type": "markdown",
   "id": "45351f3e-11bb-49f1-97d5-e1c65f47da7f",
   "metadata": {},
   "source": [
    "### No. 3"
   ]
  },
  {
   "cell_type": "code",
   "execution_count": 24,
   "id": "4fa7a024-2619-4f6c-b386-b2db88a16b13",
   "metadata": {},
   "outputs": [
    {
     "data": {
      "text/plain": [
       "ram            0\n",
       "storage        0\n",
       "screen         4\n",
       "final_price    0\n",
       "dtype: int64"
      ]
     },
     "execution_count": 24,
     "metadata": {},
     "output_type": "execute_result"
    }
   ],
   "source": [
    "df[selected_cols].isna().sum()"
   ]
  },
  {
   "cell_type": "code",
   "execution_count": 25,
   "id": "78e4cfc4-17b1-4151-af19-efdb1778cdd7",
   "metadata": {},
   "outputs": [
    {
     "data": {
      "text/plain": [
       "3"
      ]
     },
     "execution_count": 25,
     "metadata": {},
     "output_type": "execute_result"
    }
   ],
   "source": [
    "train_data[\"screen\"].isna().sum()"
   ]
  },
  {
   "cell_type": "code",
   "execution_count": 26,
   "id": "c7fec3dd-c135-4230-805e-8194f25fe172",
   "metadata": {},
   "outputs": [
    {
     "data": {
      "text/plain": [
       "1"
      ]
     },
     "execution_count": 26,
     "metadata": {},
     "output_type": "execute_result"
    }
   ],
   "source": [
    "val_data[\"screen\"].isna().sum()"
   ]
  },
  {
   "cell_type": "code",
   "execution_count": 27,
   "id": "8f1531d7-92d7-4185-a1d9-465731e63262",
   "metadata": {},
   "outputs": [],
   "source": [
    "num_cols = [\"ram\", \"storage\", \"screen\"]"
   ]
  },
  {
   "cell_type": "markdown",
   "id": "ee343d0b-657d-4ef7-8a40-7efef4a649d8",
   "metadata": {
    "jp-MarkdownHeadingCollapsed": true
   },
   "source": [
    "##### Fillna with 0"
   ]
  },
  {
   "cell_type": "code",
   "execution_count": 29,
   "id": "d4d5de0c-0076-4386-919a-0d7db0cd70f6",
   "metadata": {},
   "outputs": [
    {
     "data": {
      "text/plain": [
       "array([[  32. , 1000. ,   15.6],\n",
       "       [   4. ,   64. ,   14.1],\n",
       "       [  32. , 1000. ,   14. ],\n",
       "       ...,\n",
       "       [  16. ,  512. ,   15.6],\n",
       "       [  16. ,  512. ,   14. ],\n",
       "       [  16. ,  512. ,   14. ]])"
      ]
     },
     "execution_count": 29,
     "metadata": {},
     "output_type": "execute_result"
    }
   ],
   "source": [
    "X_train_fillna_0 = train_data[num_cols].fillna(0).values\n",
    "X_train_fillna_0"
   ]
  },
  {
   "cell_type": "code",
   "execution_count": 30,
   "id": "6b4ff065-e253-4928-a675-a1b33a049b58",
   "metadata": {},
   "outputs": [
    {
     "data": {
      "text/plain": [
       "array([1123.29,  201.05,  997.74, ..., 1059.  , 1671.  , 1056.  ])"
      ]
     },
     "execution_count": 30,
     "metadata": {},
     "output_type": "execute_result"
    }
   ],
   "source": [
    "y_train"
   ]
  },
  {
   "cell_type": "code",
   "execution_count": 31,
   "id": "c0aabacc-6a3c-4bcb-8881-be0c0b1936d6",
   "metadata": {},
   "outputs": [],
   "source": [
    "def train_lin_reg(X, y):\n",
    "    # for base bias term\n",
    "    matrix = np.ones(X.shape[0])\n",
    "    X = np.column_stack([matrix, X])\n",
    "\n",
    "    XTX = X.T.dot(X)\n",
    "    XTX_inv = np.linalg.inv(XTX)\n",
    "    w = XTX_inv.dot(X.T).dot(y)\n",
    "\n",
    "    return w[0], w[1:]"
   ]
  },
  {
   "cell_type": "code",
   "execution_count": 32,
   "id": "ade113aa-72aa-4dc3-ac5d-46ad2598c14e",
   "metadata": {},
   "outputs": [
    {
     "data": {
      "text/plain": [
       "(676.8954853003471, array([ 43.70681555,   0.86506867, -36.10399833]))"
      ]
     },
     "execution_count": 32,
     "metadata": {},
     "output_type": "execute_result"
    }
   ],
   "source": [
    "w0, w = train_lin_reg(X_train_fillna_0, y_train)\n",
    "w0, w"
   ]
  },
  {
   "cell_type": "code",
   "execution_count": 33,
   "id": "27c7e9e4-b736-43f7-bc76-79a392680c12",
   "metadata": {},
   "outputs": [
    {
     "data": {
      "text/plain": [
       "array([2377.35987681,  398.02076576, 2435.12627415, ..., 1255.89731808,\n",
       "       1313.66371541, 1313.66371541])"
      ]
     },
     "execution_count": 33,
     "metadata": {},
     "output_type": "execute_result"
    }
   ],
   "source": [
    "y_pred_train_fillna_0 = w0 + X_train_fillna_0.dot(w)\n",
    "y_pred_train_fillna_0"
   ]
  },
  {
   "cell_type": "code",
   "execution_count": 34,
   "id": "d3e1c1ba-0132-46cf-9ce8-c415b26bb34c",
   "metadata": {},
   "outputs": [],
   "source": [
    "def rmse(y, y_pred):\n",
    "    se = (y - y_pred) ** 2\n",
    "    mse = se.mean()\n",
    "    rmse = np.sqrt(mse)\n",
    "\n",
    "    return rmse"
   ]
  },
  {
   "cell_type": "markdown",
   "id": "b2e98dbb-fc26-401a-8de0-b5ea9c7ec2a2",
   "metadata": {},
   "source": [
    "RMSE:"
   ]
  },
  {
   "cell_type": "code",
   "execution_count": 36,
   "id": "7e6af3cc-b545-4402-bb9e-1f7a6599cb55",
   "metadata": {},
   "outputs": [
    {
     "data": {
      "text/plain": [
       "602.39"
      ]
     },
     "execution_count": 36,
     "metadata": {},
     "output_type": "execute_result"
    }
   ],
   "source": [
    "rmse_y_train_fillna_0 = rmse(y_train, y_pred_train_fillna_0).round(2)\n",
    "rmse_y_train_fillna_0"
   ]
  },
  {
   "cell_type": "markdown",
   "id": "8b88e332-d5f8-407f-95f1-394bdc53576f",
   "metadata": {},
   "source": [
    "##### Fillna with mean"
   ]
  },
  {
   "cell_type": "code",
   "execution_count": 38,
   "id": "69377c25-4f6d-4771-95bd-da9938192300",
   "metadata": {},
   "outputs": [],
   "source": [
    "num_cols = [\"ram\", \"storage\", \"screen\"]"
   ]
  },
  {
   "cell_type": "code",
   "execution_count": 39,
   "id": "8417ec3b-9f11-48ed-b29d-75ec4a17a108",
   "metadata": {},
   "outputs": [
    {
     "data": {
      "text/plain": [
       "array([[  32. , 1000. ,   15.6],\n",
       "       [   4. ,   64. ,   14.1],\n",
       "       [  32. , 1000. ,   14. ],\n",
       "       ...,\n",
       "       [  16. ,  512. ,   15.6],\n",
       "       [  16. ,  512. ,   14. ],\n",
       "       [  16. ,  512. ,   14. ]])"
      ]
     },
     "execution_count": 39,
     "metadata": {},
     "output_type": "execute_result"
    }
   ],
   "source": [
    "X_train_fillna_mean = train_data[num_cols].fillna(train_data[num_cols].mean()).values\n",
    "X_train_fillna_mean"
   ]
  },
  {
   "cell_type": "code",
   "execution_count": 40,
   "id": "83742a22-2d35-479e-986e-0194ffb5af44",
   "metadata": {},
   "outputs": [
    {
     "data": {
      "text/plain": [
       "array([1123.29,  201.05,  997.74, ..., 1059.  , 1671.  , 1056.  ])"
      ]
     },
     "execution_count": 40,
     "metadata": {},
     "output_type": "execute_result"
    }
   ],
   "source": [
    "y_train"
   ]
  },
  {
   "cell_type": "code",
   "execution_count": 41,
   "id": "d8bb49be-9aba-4d50-984a-bab997b66e25",
   "metadata": {},
   "outputs": [
    {
     "data": {
      "text/plain": [
       "(808.9159907333383, array([ 43.90774584,   0.87135236, -45.18273312]))"
      ]
     },
     "execution_count": 41,
     "metadata": {},
     "output_type": "execute_result"
    }
   ],
   "source": [
    "w0, w = train_lin_reg(X_train_fillna_mean, y_train)\n",
    "w0, w"
   ]
  },
  {
   "cell_type": "code",
   "execution_count": 42,
   "id": "936c1f3c-1495-43c9-9eca-740b436ab0c5",
   "metadata": {},
   "outputs": [
    {
     "data": {
      "text/plain": [
       "array([2380.46558232,  403.23698821, 2452.75795532, ..., 1252.72169651,\n",
       "       1325.01406951, 1325.01406951])"
      ]
     },
     "execution_count": 42,
     "metadata": {},
     "output_type": "execute_result"
    }
   ],
   "source": [
    "y_pred_train_fillna_mean = w0 + X_train_fillna_mean.dot(w)\n",
    "y_pred_train_fillna_mean"
   ]
  },
  {
   "cell_type": "code",
   "execution_count": 43,
   "id": "9c28f4f3-4eda-4ae8-94dd-7f2e2c5802d0",
   "metadata": {},
   "outputs": [
    {
     "data": {
      "text/plain": [
       "602.18"
      ]
     },
     "execution_count": 43,
     "metadata": {},
     "output_type": "execute_result"
    }
   ],
   "source": [
    "rmse_y_train_fillna_mean = rmse(y_train, y_pred_train_fillna_mean).round(2)\n",
    "rmse_y_train_fillna_mean"
   ]
  },
  {
   "cell_type": "code",
   "execution_count": 44,
   "id": "470eef0a-3ead-41ab-9d4e-c1bff07c1d3b",
   "metadata": {},
   "outputs": [
    {
     "data": {
      "text/plain": [
       "array([[  32. , 1000. ,   16. ],\n",
       "       [  16. ,  512. ,   15.6],\n",
       "       [  12. ,  512. ,   15.6],\n",
       "       ...,\n",
       "       [   8. ,  512. ,   14. ],\n",
       "       [  16. ,  512. ,   14. ],\n",
       "       [   4. ,   64. ,   14. ]])"
      ]
     },
     "execution_count": 44,
     "metadata": {},
     "output_type": "execute_result"
    }
   ],
   "source": [
    "X_val = val_data[num_cols].fillna(0).values\n",
    "X_val"
   ]
  },
  {
   "cell_type": "markdown",
   "id": "1d49ab61-5daa-4873-979c-56523d9b9317",
   "metadata": {},
   "source": [
    "RMSE:"
   ]
  },
  {
   "cell_type": "code",
   "execution_count": 46,
   "id": "9d14b8ae-9010-4974-84b8-0188187a706f",
   "metadata": {},
   "outputs": [
    {
     "data": {
      "text/plain": [
       "597.74"
      ]
     },
     "execution_count": 46,
     "metadata": {},
     "output_type": "execute_result"
    }
   ],
   "source": [
    "y_pred_val = w0 + X_val.dot(w)\n",
    "\n",
    "rmse_y_val = rmse(y_val, y_pred_val).round(2)\n",
    "rmse_y_val"
   ]
  },
  {
   "cell_type": "markdown",
   "id": "520e06f9-9153-430a-98d5-95a68ed03201",
   "metadata": {},
   "source": [
    "### No. 4"
   ]
  },
  {
   "cell_type": "code",
   "execution_count": 48,
   "id": "5a9da548-d573-4e31-bd36-f0da001623b3",
   "metadata": {},
   "outputs": [],
   "source": [
    "def train_lin_reg_regular(X, y, r):\n",
    "    # for base bias term\n",
    "    matrix = np.ones(X.shape[0])\n",
    "    X = np.column_stack([matrix, X])\n",
    "\n",
    "    XTX = X.T.dot(X)\n",
    "    XTX = XTX + r * np.eye(XTX.shape[0])\n",
    "\n",
    "    XTX_inv = np.linalg.inv(XTX)\n",
    "    w = XTX_inv.dot(X.T).dot(y)\n",
    "\n",
    "    return w[0], w[1:]"
   ]
  },
  {
   "cell_type": "code",
   "execution_count": 49,
   "id": "dae3122c-f906-41ac-8f78-4123805d9489",
   "metadata": {},
   "outputs": [
    {
     "name": "stdout",
     "output_type": "stream",
     "text": [
      "0 676.8954853003471 597.36\n",
      "0.01 676.2736817204672 597.36\n",
      "0.1 670.7284836313021 597.35\n",
      "1 619.9030834107807 597.21\n",
      "5 463.77716971415225 597.01\n",
      "10 352.79713367676436 597.06\n",
      "100 66.92071440180734 597.9\n"
     ]
    }
   ],
   "source": [
    "for r in [0, 0.01, 0.1, 1, 5, 10, 100]:\n",
    "    w0, w = train_lin_reg_regular(X_train_fillna_0, y_train, r=r)\n",
    "    \n",
    "    y_pred_val = w0 + X_val.dot(w)\n",
    "    score = rmse(y_val, y_pred_val).round(2)\n",
    "    \n",
    "    print(r, w0, score)"
   ]
  },
  {
   "cell_type": "markdown",
   "id": "497c2c81-6dc6-4b2e-8801-ca79f4df3588",
   "metadata": {},
   "source": [
    "### No. 5"
   ]
  },
  {
   "cell_type": "code",
   "execution_count": 51,
   "id": "00f124ff-abaa-4982-98f0-65a9851d5167",
   "metadata": {},
   "outputs": [
    {
     "name": "stdout",
     "output_type": "stream",
     "text": [
      "Seed = 0, RMSE_val = 565.4520868770995\n",
      "Seed = 1, RMSE_val = 636.7985423056726\n",
      "Seed = 2, RMSE_val = 588.955869790796\n",
      "Seed = 3, RMSE_val = 597.8148920012515\n",
      "Seed = 4, RMSE_val = 571.962791511103\n",
      "Seed = 5, RMSE_val = 573.238325661895\n",
      "Seed = 6, RMSE_val = 647.3438328407194\n",
      "Seed = 7, RMSE_val = 550.4398184485962\n",
      "Seed = 8, RMSE_val = 587.3335036169963\n",
      "Seed = 9, RMSE_val = 576.101792943313\n"
     ]
    }
   ],
   "source": [
    "rmse_values = []\n",
    "\n",
    "for seed in [0,1,2,3,4,5,6,7,8,9]:\n",
    "\n",
    "    n = len(df)\n",
    "    n_val = int(n * 0.2)\n",
    "    n_test = int(n * 0.2)\n",
    "    n_train = n - n_val - n_test\n",
    "    \n",
    "    idx = np.arange(len(df))\n",
    "    np.random.seed(seed)\n",
    "    # Reset idx to the original sequence before shuffling\n",
    "    np.random.shuffle(idx)\n",
    "\n",
    "    df_train = df.iloc[idx[:n_train]].copy()\n",
    "    df_val = df.iloc[idx[n_train:n_train+n_val]].copy()\n",
    "    df_test = df.iloc[idx[n_train+n_val:]].copy()\n",
    "\n",
    "    df_train = df_train.reset_index(drop=True)\n",
    "    df_val = df_val.reset_index(drop=True)\n",
    "    df_test = df_test.reset_index(drop=True)\n",
    "\n",
    "    final_price = df.final_price\n",
    "\n",
    "    y_train = df_train.final_price.values\n",
    "    y_val = df_val.final_price.values\n",
    "    y_test = df_test.final_price.values\n",
    "    \n",
    "    # This is for deleting the final price, but I commented it because I deleted it first\n",
    "    del df_train[\"final_price\"]\n",
    "    del df_val[\"final_price\"]\n",
    "    del df_test[\"final_price\"]\n",
    "\n",
    "    num_cols = [\"ram\", \"storage\", \"screen\"]\n",
    "    \n",
    "    X_train = df_train[num_cols].fillna(0).values\n",
    "    X_val = df_val[num_cols].fillna(0).values\n",
    "    X_test = df_test[num_cols].fillna(0).values\n",
    "\n",
    "    w0, w = train_lin_reg(X_train, y_train)\n",
    "    y_pred_train = w0 + X_train.dot(w)\n",
    "    score_y_train = rmse(y_train, y_pred_train)\n",
    "\n",
    "    y_pred_val = w0 + X_val.dot(w)\n",
    "    score_y_val = rmse(y_val, y_pred_val)\n",
    "\n",
    "    rmse_values.append(score_y_val)\n",
    "\n",
    "    print(f\"Seed = {seed}, RMSE_val = {score_y_val}\")"
   ]
  },
  {
   "cell_type": "code",
   "execution_count": 52,
   "id": "5cdaf9ab-d1d1-46bd-adea-d8aade33a9b2",
   "metadata": {},
   "outputs": [
    {
     "data": {
      "text/plain": [
       "29.176"
      ]
     },
     "execution_count": 52,
     "metadata": {},
     "output_type": "execute_result"
    }
   ],
   "source": [
    "rmse_array = np.array(rmse_values)    \n",
    "std = np.std(rmse_array).round(3)\n",
    "std"
   ]
  },
  {
   "cell_type": "markdown",
   "id": "5b6a913c-9a65-4c14-ba6c-1e02c9ac170e",
   "metadata": {},
   "source": [
    "### No. 6"
   ]
  },
  {
   "cell_type": "code",
   "execution_count": 54,
   "id": "a938f730-cf80-4d2a-b411-f1852da805a1",
   "metadata": {},
   "outputs": [
    {
     "data": {
      "text/html": [
       "<div>\n",
       "<style scoped>\n",
       "    .dataframe tbody tr th:only-of-type {\n",
       "        vertical-align: middle;\n",
       "    }\n",
       "\n",
       "    .dataframe tbody tr th {\n",
       "        vertical-align: top;\n",
       "    }\n",
       "\n",
       "    .dataframe thead th {\n",
       "        text-align: right;\n",
       "    }\n",
       "</style>\n",
       "<table border=\"1\" class=\"dataframe\">\n",
       "  <thead>\n",
       "    <tr style=\"text-align: right;\">\n",
       "      <th></th>\n",
       "      <th>laptop</th>\n",
       "      <th>status</th>\n",
       "      <th>brand</th>\n",
       "      <th>model</th>\n",
       "      <th>cpu</th>\n",
       "      <th>ram</th>\n",
       "      <th>storage</th>\n",
       "      <th>storage_type</th>\n",
       "      <th>gpu</th>\n",
       "      <th>screen</th>\n",
       "      <th>touch</th>\n",
       "      <th>final_price</th>\n",
       "    </tr>\n",
       "  </thead>\n",
       "  <tbody>\n",
       "    <tr>\n",
       "      <th>0</th>\n",
       "      <td>ASUS ExpertBook B1 B1502CBA-EJ0436X Intel Core...</td>\n",
       "      <td>New</td>\n",
       "      <td>Asus</td>\n",
       "      <td>ExpertBook</td>\n",
       "      <td>Intel Core i5</td>\n",
       "      <td>8</td>\n",
       "      <td>512</td>\n",
       "      <td>SSD</td>\n",
       "      <td>NaN</td>\n",
       "      <td>15.6</td>\n",
       "      <td>No</td>\n",
       "      <td>1009.00</td>\n",
       "    </tr>\n",
       "    <tr>\n",
       "      <th>1</th>\n",
       "      <td>Alurin Go Start Intel Celeron N4020/8GB/256GB ...</td>\n",
       "      <td>New</td>\n",
       "      <td>Alurin</td>\n",
       "      <td>Go</td>\n",
       "      <td>Intel Celeron</td>\n",
       "      <td>8</td>\n",
       "      <td>256</td>\n",
       "      <td>SSD</td>\n",
       "      <td>NaN</td>\n",
       "      <td>15.6</td>\n",
       "      <td>No</td>\n",
       "      <td>299.00</td>\n",
       "    </tr>\n",
       "    <tr>\n",
       "      <th>2</th>\n",
       "      <td>ASUS ExpertBook B1 B1502CBA-EJ0424X Intel Core...</td>\n",
       "      <td>New</td>\n",
       "      <td>Asus</td>\n",
       "      <td>ExpertBook</td>\n",
       "      <td>Intel Core i3</td>\n",
       "      <td>8</td>\n",
       "      <td>256</td>\n",
       "      <td>SSD</td>\n",
       "      <td>NaN</td>\n",
       "      <td>15.6</td>\n",
       "      <td>No</td>\n",
       "      <td>789.00</td>\n",
       "    </tr>\n",
       "    <tr>\n",
       "      <th>3</th>\n",
       "      <td>MSI Katana GF66 12UC-082XES Intel Core i7-1270...</td>\n",
       "      <td>New</td>\n",
       "      <td>MSI</td>\n",
       "      <td>Katana</td>\n",
       "      <td>Intel Core i7</td>\n",
       "      <td>16</td>\n",
       "      <td>1000</td>\n",
       "      <td>SSD</td>\n",
       "      <td>RTX 3050</td>\n",
       "      <td>15.6</td>\n",
       "      <td>No</td>\n",
       "      <td>1199.00</td>\n",
       "    </tr>\n",
       "    <tr>\n",
       "      <th>4</th>\n",
       "      <td>HP 15S-FQ5085NS Intel Core i5-1235U/16GB/512GB...</td>\n",
       "      <td>New</td>\n",
       "      <td>HP</td>\n",
       "      <td>15S</td>\n",
       "      <td>Intel Core i5</td>\n",
       "      <td>16</td>\n",
       "      <td>512</td>\n",
       "      <td>SSD</td>\n",
       "      <td>NaN</td>\n",
       "      <td>15.6</td>\n",
       "      <td>No</td>\n",
       "      <td>669.01</td>\n",
       "    </tr>\n",
       "    <tr>\n",
       "      <th>...</th>\n",
       "      <td>...</td>\n",
       "      <td>...</td>\n",
       "      <td>...</td>\n",
       "      <td>...</td>\n",
       "      <td>...</td>\n",
       "      <td>...</td>\n",
       "      <td>...</td>\n",
       "      <td>...</td>\n",
       "      <td>...</td>\n",
       "      <td>...</td>\n",
       "      <td>...</td>\n",
       "      <td>...</td>\n",
       "    </tr>\n",
       "    <tr>\n",
       "      <th>2155</th>\n",
       "      <td>Razer Blade 17 FHD 360Hz Intel Core i7-11800H/...</td>\n",
       "      <td>Refurbished</td>\n",
       "      <td>Razer</td>\n",
       "      <td>Blade</td>\n",
       "      <td>Intel Core i7</td>\n",
       "      <td>16</td>\n",
       "      <td>1000</td>\n",
       "      <td>SSD</td>\n",
       "      <td>RTX 3060</td>\n",
       "      <td>17.3</td>\n",
       "      <td>No</td>\n",
       "      <td>2699.99</td>\n",
       "    </tr>\n",
       "    <tr>\n",
       "      <th>2156</th>\n",
       "      <td>Razer Blade 17 FHD 360Hz Intel Core i7-11800H/...</td>\n",
       "      <td>Refurbished</td>\n",
       "      <td>Razer</td>\n",
       "      <td>Blade</td>\n",
       "      <td>Intel Core i7</td>\n",
       "      <td>16</td>\n",
       "      <td>1000</td>\n",
       "      <td>SSD</td>\n",
       "      <td>RTX 3070</td>\n",
       "      <td>17.3</td>\n",
       "      <td>No</td>\n",
       "      <td>2899.99</td>\n",
       "    </tr>\n",
       "    <tr>\n",
       "      <th>2157</th>\n",
       "      <td>Razer Blade 17 FHD 360Hz Intel Core i7-11800H/...</td>\n",
       "      <td>Refurbished</td>\n",
       "      <td>Razer</td>\n",
       "      <td>Blade</td>\n",
       "      <td>Intel Core i7</td>\n",
       "      <td>32</td>\n",
       "      <td>1000</td>\n",
       "      <td>SSD</td>\n",
       "      <td>RTX 3080</td>\n",
       "      <td>17.3</td>\n",
       "      <td>No</td>\n",
       "      <td>3399.99</td>\n",
       "    </tr>\n",
       "    <tr>\n",
       "      <th>2158</th>\n",
       "      <td>Razer Book 13 Intel Evo Core i7-1165G7/16GB/1T...</td>\n",
       "      <td>Refurbished</td>\n",
       "      <td>Razer</td>\n",
       "      <td>Book</td>\n",
       "      <td>Intel Evo Core i7</td>\n",
       "      <td>16</td>\n",
       "      <td>1000</td>\n",
       "      <td>SSD</td>\n",
       "      <td>NaN</td>\n",
       "      <td>13.4</td>\n",
       "      <td>Yes</td>\n",
       "      <td>1899.99</td>\n",
       "    </tr>\n",
       "    <tr>\n",
       "      <th>2159</th>\n",
       "      <td>Razer Book FHD+ Intel Evo Core i7-1165G7/16GB/...</td>\n",
       "      <td>Refurbished</td>\n",
       "      <td>Razer</td>\n",
       "      <td>Book</td>\n",
       "      <td>Intel Evo Core i7</td>\n",
       "      <td>16</td>\n",
       "      <td>256</td>\n",
       "      <td>SSD</td>\n",
       "      <td>NaN</td>\n",
       "      <td>13.4</td>\n",
       "      <td>Yes</td>\n",
       "      <td>1699.99</td>\n",
       "    </tr>\n",
       "  </tbody>\n",
       "</table>\n",
       "<p>2160 rows × 12 columns</p>\n",
       "</div>"
      ],
      "text/plain": [
       "                                                 laptop       status   brand  \\\n",
       "0     ASUS ExpertBook B1 B1502CBA-EJ0436X Intel Core...          New    Asus   \n",
       "1     Alurin Go Start Intel Celeron N4020/8GB/256GB ...          New  Alurin   \n",
       "2     ASUS ExpertBook B1 B1502CBA-EJ0424X Intel Core...          New    Asus   \n",
       "3     MSI Katana GF66 12UC-082XES Intel Core i7-1270...          New     MSI   \n",
       "4     HP 15S-FQ5085NS Intel Core i5-1235U/16GB/512GB...          New      HP   \n",
       "...                                                 ...          ...     ...   \n",
       "2155  Razer Blade 17 FHD 360Hz Intel Core i7-11800H/...  Refurbished   Razer   \n",
       "2156  Razer Blade 17 FHD 360Hz Intel Core i7-11800H/...  Refurbished   Razer   \n",
       "2157  Razer Blade 17 FHD 360Hz Intel Core i7-11800H/...  Refurbished   Razer   \n",
       "2158  Razer Book 13 Intel Evo Core i7-1165G7/16GB/1T...  Refurbished   Razer   \n",
       "2159  Razer Book FHD+ Intel Evo Core i7-1165G7/16GB/...  Refurbished   Razer   \n",
       "\n",
       "           model                cpu  ram  storage storage_type       gpu  \\\n",
       "0     ExpertBook      Intel Core i5    8      512          SSD       NaN   \n",
       "1             Go      Intel Celeron    8      256          SSD       NaN   \n",
       "2     ExpertBook      Intel Core i3    8      256          SSD       NaN   \n",
       "3         Katana      Intel Core i7   16     1000          SSD  RTX 3050   \n",
       "4            15S      Intel Core i5   16      512          SSD       NaN   \n",
       "...          ...                ...  ...      ...          ...       ...   \n",
       "2155       Blade      Intel Core i7   16     1000          SSD  RTX 3060   \n",
       "2156       Blade      Intel Core i7   16     1000          SSD  RTX 3070   \n",
       "2157       Blade      Intel Core i7   32     1000          SSD  RTX 3080   \n",
       "2158        Book  Intel Evo Core i7   16     1000          SSD       NaN   \n",
       "2159        Book  Intel Evo Core i7   16      256          SSD       NaN   \n",
       "\n",
       "      screen touch  final_price  \n",
       "0       15.6    No      1009.00  \n",
       "1       15.6    No       299.00  \n",
       "2       15.6    No       789.00  \n",
       "3       15.6    No      1199.00  \n",
       "4       15.6    No       669.01  \n",
       "...      ...   ...          ...  \n",
       "2155    17.3    No      2699.99  \n",
       "2156    17.3    No      2899.99  \n",
       "2157    17.3    No      3399.99  \n",
       "2158    13.4   Yes      1899.99  \n",
       "2159    13.4   Yes      1699.99  \n",
       "\n",
       "[2160 rows x 12 columns]"
      ]
     },
     "execution_count": 54,
     "metadata": {},
     "output_type": "execute_result"
    }
   ],
   "source": [
    "df"
   ]
  },
  {
   "cell_type": "code",
   "execution_count": 55,
   "id": "8928fdb1-62a6-4008-9bb1-a7eb482b3732",
   "metadata": {},
   "outputs": [
    {
     "data": {
      "text/plain": [
       "array([2003,  502,  896, ...,  501,  348,  382])"
      ]
     },
     "execution_count": 55,
     "metadata": {},
     "output_type": "execute_result"
    }
   ],
   "source": [
    "index = np.arange(len(df))\n",
    "\n",
    "np.random.seed(9)\n",
    "np.random.shuffle(index)\n",
    "index"
   ]
  },
  {
   "cell_type": "code",
   "execution_count": 56,
   "id": "ecb65491-67a9-4d15-9593-6d9a3a039fbd",
   "metadata": {},
   "outputs": [],
   "source": [
    "n = len(df)\n",
    "\n",
    "n_val = int(n*0.2)\n",
    "n_test = int(n*0.2)\n",
    "n_train = n - n_val - n_test"
   ]
  },
  {
   "cell_type": "code",
   "execution_count": 57,
   "id": "819ab3b2-5cfe-4fe6-a516-1db217cdc021",
   "metadata": {},
   "outputs": [],
   "source": [
    "train_data = df.iloc[index[:n_train]]\n",
    "valid_data = df.iloc[index[n_train:n_train + n_val]]\n",
    "test_data = df.iloc[index[n_train + n_val:]]"
   ]
  },
  {
   "cell_type": "code",
   "execution_count": 58,
   "id": "a1a5e6fe-9362-4732-a966-75609d2752df",
   "metadata": {},
   "outputs": [],
   "source": [
    "train_data = train_data.reset_index(drop=True)\n",
    "valid_data = valid_data.reset_index(drop=True)\n",
    "test_data = test_data.reset_index(drop=True)"
   ]
  },
  {
   "cell_type": "code",
   "execution_count": 59,
   "id": "beb54889-82c1-4ada-9ef8-58d3854922a9",
   "metadata": {},
   "outputs": [],
   "source": [
    "y_train = train_data.final_price.values\n",
    "y_val = valid_data.final_price.values\n",
    "y_test = test_data.final_price.values"
   ]
  },
  {
   "cell_type": "code",
   "execution_count": 60,
   "id": "54415893-142b-417a-9a0c-dffa040f7b8f",
   "metadata": {},
   "outputs": [],
   "source": [
    "del train_data[\"final_price\"]\n",
    "del valid_data[\"final_price\"]\n",
    "del test_data[\"final_price\"]"
   ]
  },
  {
   "cell_type": "code",
   "execution_count": 61,
   "id": "7994ed3e-b39c-4329-8912-4f751efe73dd",
   "metadata": {},
   "outputs": [],
   "source": [
    "X_full_train = pd.concat([train_data, valid_data])\n",
    "y_full_train = np.concatenate((y_train, y_val), axis=0)\n",
    "\n",
    "X_test = test_data"
   ]
  },
  {
   "cell_type": "code",
   "execution_count": 62,
   "id": "9d219fa1-187f-4a5b-b1a9-6ab3a2d2b1c0",
   "metadata": {},
   "outputs": [],
   "source": [
    "num_cols = [\"ram\", \"storage\", \"screen\"]"
   ]
  },
  {
   "cell_type": "code",
   "execution_count": 63,
   "id": "2e8ff0c7-2f46-4fd8-9bef-b304447a5718",
   "metadata": {},
   "outputs": [
    {
     "data": {
      "text/plain": [
       "ram        0\n",
       "storage    0\n",
       "screen     0\n",
       "dtype: int64"
      ]
     },
     "execution_count": 63,
     "metadata": {},
     "output_type": "execute_result"
    }
   ],
   "source": [
    "X_full_train = X_full_train[num_cols].fillna(0)\n",
    "X_full_train.isna().sum()"
   ]
  },
  {
   "cell_type": "code",
   "execution_count": 64,
   "id": "02b215e2-33b6-4d1f-8983-ff22fa4babcf",
   "metadata": {},
   "outputs": [
    {
     "data": {
      "text/plain": [
       "ram        0\n",
       "storage    0\n",
       "screen     0\n",
       "dtype: int64"
      ]
     },
     "execution_count": 64,
     "metadata": {},
     "output_type": "execute_result"
    }
   ],
   "source": [
    "X_test = X_test[num_cols].fillna(0)\n",
    "X_test.isna().sum()"
   ]
  },
  {
   "cell_type": "code",
   "execution_count": 65,
   "id": "cffd2a12-d554-4319-ac8b-bd36da0047c9",
   "metadata": {},
   "outputs": [
    {
     "data": {
      "text/plain": [
       "608.61"
      ]
     },
     "execution_count": 65,
     "metadata": {},
     "output_type": "execute_result"
    }
   ],
   "source": [
    "w0, w = train_lin_reg_regular(X_full_train, y_full_train, r=0.001)\n",
    "\n",
    "y_pred_test = w0 + X_test.dot(w)\n",
    "rmse_test = rmse(y_test, y_pred_test).round(2)\n",
    "rmse_test"
   ]
  }
 ],
 "metadata": {
  "kernelspec": {
   "display_name": "Python 3 (ipykernel)",
   "language": "python",
   "name": "python3"
  },
  "language_info": {
   "codemirror_mode": {
    "name": "ipython",
    "version": 3
   },
   "file_extension": ".py",
   "mimetype": "text/x-python",
   "name": "python",
   "nbconvert_exporter": "python",
   "pygments_lexer": "ipython3",
   "version": "3.11.5"
  }
 },
 "nbformat": 4,
 "nbformat_minor": 5
}
