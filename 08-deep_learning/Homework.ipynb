{
 "cells": [
  {
   "cell_type": "code",
   "execution_count": 1,
   "id": "3f60cc3a-477e-4683-8371-c492ff59de17",
   "metadata": {
    "execution": {
     "iopub.execute_input": "2024-12-06T12:00:37.959463Z",
     "iopub.status.busy": "2024-12-06T12:00:37.959140Z",
     "iopub.status.idle": "2024-12-06T12:00:37.962886Z",
     "shell.execute_reply": "2024-12-06T12:00:37.962131Z",
     "shell.execute_reply.started": "2024-12-06T12:00:37.959441Z"
    }
   },
   "outputs": [],
   "source": [
    "# !pip install wget"
   ]
  },
  {
   "cell_type": "code",
   "execution_count": 2,
   "id": "10d99feb-0175-424c-b36e-1f9e3519abd5",
   "metadata": {
    "execution": {
     "iopub.execute_input": "2024-12-06T12:00:37.964245Z",
     "iopub.status.busy": "2024-12-06T12:00:37.964001Z",
     "iopub.status.idle": "2024-12-06T12:00:37.968294Z",
     "shell.execute_reply": "2024-12-06T12:00:37.967794Z",
     "shell.execute_reply.started": "2024-12-06T12:00:37.964228Z"
    }
   },
   "outputs": [],
   "source": [
    "# import zipfile"
   ]
  },
  {
   "cell_type": "code",
   "execution_count": 3,
   "id": "4625fc52-8d60-4f2a-952c-60dabc3a159c",
   "metadata": {
    "execution": {
     "iopub.execute_input": "2024-12-06T12:00:37.969507Z",
     "iopub.status.busy": "2024-12-06T12:00:37.968948Z",
     "iopub.status.idle": "2024-12-06T12:00:37.973952Z",
     "shell.execute_reply": "2024-12-06T12:00:37.973483Z",
     "shell.execute_reply.started": "2024-12-06T12:00:37.969479Z"
    }
   },
   "outputs": [],
   "source": [
    "# data = \"https://github.com/SVizor42/ML_Zoomcamp/releases/download/straight-curly-data/data.zip\"\n",
    "# !python -m wget $data -o data.zip\n",
    "\n",
    "# zip_file = \"data.zip\" \n",
    "# extract_to = \"./extracted_data\"\n",
    "\n",
    "# with zipfile.ZipFile(zip_file, 'r') as zip_ref:\n",
    "#     zip_ref.extractall(extract_to)\n",
    "#     print(f\"Extracted files to: {extract_to}\")"
   ]
  },
  {
   "cell_type": "code",
   "execution_count": 4,
   "id": "3a71340d-2cbc-4ab2-95ae-be3595abe166",
   "metadata": {
    "execution": {
     "iopub.execute_input": "2024-12-06T12:00:37.974803Z",
     "iopub.status.busy": "2024-12-06T12:00:37.974588Z",
     "iopub.status.idle": "2024-12-06T12:00:40.607501Z",
     "shell.execute_reply": "2024-12-06T12:00:40.606954Z",
     "shell.execute_reply.started": "2024-12-06T12:00:37.974786Z"
    }
   },
   "outputs": [
    {
     "name": "stderr",
     "output_type": "stream",
     "text": [
      "2024-12-06 12:00:38.594396: I tensorflow/core/util/port.cc:153] oneDNN custom operations are on. You may see slightly different numerical results due to floating-point round-off errors from different computation orders. To turn them off, set the environment variable `TF_ENABLE_ONEDNN_OPTS=0`.\n",
      "2024-12-06 12:00:38.612967: E external/local_xla/xla/stream_executor/cuda/cuda_fft.cc:477] Unable to register cuFFT factory: Attempting to register factory for plugin cuFFT when one has already been registered\n",
      "WARNING: All log messages before absl::InitializeLog() is called are written to STDERR\n",
      "E0000 00:00:1733486438.633148   19337 cuda_dnn.cc:8310] Unable to register cuDNN factory: Attempting to register factory for plugin cuDNN when one has already been registered\n",
      "E0000 00:00:1733486438.639339   19337 cuda_blas.cc:1418] Unable to register cuBLAS factory: Attempting to register factory for plugin cuBLAS when one has already been registered\n",
      "2024-12-06 12:00:38.659952: I tensorflow/core/platform/cpu_feature_guard.cc:210] This TensorFlow binary is optimized to use available CPU instructions in performance-critical operations.\n",
      "To enable the following instructions: AVX2 AVX512F AVX512_VNNI FMA, in other operations, rebuild TensorFlow with the appropriate compiler flags.\n"
     ]
    }
   ],
   "source": [
    "import numpy as np\n",
    "import matplotlib.pyplot as plt\n",
    "%matplotlib inline\n",
    "\n",
    "import tensorflow as tf\n",
    "\n",
    "SEED = 42\n",
    "np.random.seed(SEED)\n",
    "tf.random.set_seed(SEED)"
   ]
  },
  {
   "cell_type": "code",
   "execution_count": 5,
   "id": "9ca82d6e-8c6c-441b-a1c3-7fcb3db17627",
   "metadata": {
    "execution": {
     "iopub.execute_input": "2024-12-06T12:00:40.609364Z",
     "iopub.status.busy": "2024-12-06T12:00:40.608952Z",
     "iopub.status.idle": "2024-12-06T12:00:40.614115Z",
     "shell.execute_reply": "2024-12-06T12:00:40.613592Z",
     "shell.execute_reply.started": "2024-12-06T12:00:40.609344Z"
    }
   },
   "outputs": [
    {
     "data": {
      "text/plain": [
       "'2.18.0'"
      ]
     },
     "execution_count": 5,
     "metadata": {},
     "output_type": "execute_result"
    }
   ],
   "source": [
    "tf.__version__"
   ]
  },
  {
   "cell_type": "code",
   "execution_count": 6,
   "id": "a5bfc268-c736-4be2-9488-bf40ddb5a53f",
   "metadata": {
    "execution": {
     "iopub.execute_input": "2024-12-06T12:00:40.614998Z",
     "iopub.status.busy": "2024-12-06T12:00:40.614742Z",
     "iopub.status.idle": "2024-12-06T12:00:40.712678Z",
     "shell.execute_reply": "2024-12-06T12:00:40.712094Z",
     "shell.execute_reply.started": "2024-12-06T12:00:40.614979Z"
    }
   },
   "outputs": [
    {
     "name": "stdout",
     "output_type": "stream",
     "text": [
      "[PhysicalDevice(name='/physical_device:GPU:0', device_type='GPU')]\n"
     ]
    }
   ],
   "source": [
    "print(tf.config.list_physical_devices('GPU'))"
   ]
  },
  {
   "cell_type": "code",
   "execution_count": 7,
   "id": "11c56614-20c8-4f73-931a-0921b6995c00",
   "metadata": {
    "execution": {
     "iopub.execute_input": "2024-12-06T12:00:40.713577Z",
     "iopub.status.busy": "2024-12-06T12:00:40.713311Z",
     "iopub.status.idle": "2024-12-06T12:00:40.723863Z",
     "shell.execute_reply": "2024-12-06T12:00:40.723315Z",
     "shell.execute_reply.started": "2024-12-06T12:00:40.713558Z"
    }
   },
   "outputs": [],
   "source": [
    "from tensorflow.keras import models, layers\n",
    "from tensorflow.keras.optimizers import SGD"
   ]
  },
  {
   "cell_type": "code",
   "execution_count": 8,
   "id": "750882e6-de29-4d5c-81ff-90c946e3ab88",
   "metadata": {
    "execution": {
     "iopub.execute_input": "2024-12-06T12:00:40.724834Z",
     "iopub.status.busy": "2024-12-06T12:00:40.724520Z",
     "iopub.status.idle": "2024-12-06T12:00:40.727928Z",
     "shell.execute_reply": "2024-12-06T12:00:40.727374Z",
     "shell.execute_reply.started": "2024-12-06T12:00:40.724807Z"
    }
   },
   "outputs": [],
   "source": [
    "path = './extracted_data/data/t-shirt'\n",
    "fullname = f'{path}'"
   ]
  },
  {
   "cell_type": "code",
   "execution_count": 9,
   "id": "4e49b4ad-f10e-4954-855e-fb6f91618280",
   "metadata": {
    "execution": {
     "iopub.execute_input": "2024-12-06T12:00:40.728682Z",
     "iopub.status.busy": "2024-12-06T12:00:40.728456Z",
     "iopub.status.idle": "2024-12-06T12:00:41.792033Z",
     "shell.execute_reply": "2024-12-06T12:00:41.791454Z",
     "shell.execute_reply.started": "2024-12-06T12:00:40.728665Z"
    }
   },
   "outputs": [
    {
     "name": "stderr",
     "output_type": "stream",
     "text": [
      "/opt/saturncloud/envs/saturn/lib/python3.12/site-packages/keras/src/layers/convolutional/base_conv.py:107: UserWarning: Do not pass an `input_shape`/`input_dim` argument to a layer. When using Sequential models, prefer using an `Input(shape)` object as the first layer in the model instead.\n",
      "  super().__init__(activity_regularizer=activity_regularizer, **kwargs)\n",
      "I0000 00:00:1733486440.821568   19337 gpu_device.cc:2022] Created device /job:localhost/replica:0/task:0/device:GPU:0 with 13942 MB memory:  -> device: 0, name: Tesla T4, pci bus id: 0000:00:1e.0, compute capability: 7.5\n"
     ]
    }
   ],
   "source": [
    "model = models.Sequential()\n",
    "\n",
    "model.add(layers.Conv2D(32, (3,3), activation=\"relu\", input_shape=(200,200,3)))\n",
    "model.add(layers.MaxPooling2D((2,2)))\n",
    "model.add(layers.Flatten())\n",
    "model.add(layers.Dense(64, activation=\"relu\"))\n",
    "model.add(layers.Dense(1, activation=\"sigmoid\"))"
   ]
  },
  {
   "cell_type": "markdown",
   "id": "f619e9f6-9b0e-4957-aa10-fdeb83232637",
   "metadata": {},
   "source": [
    "### No 1"
   ]
  },
  {
   "cell_type": "code",
   "execution_count": 10,
   "id": "49a8cfa3-944e-4486-99a0-bf0d80b84b92",
   "metadata": {
    "execution": {
     "iopub.execute_input": "2024-12-06T12:00:41.793477Z",
     "iopub.status.busy": "2024-12-06T12:00:41.792738Z",
     "iopub.status.idle": "2024-12-06T12:00:41.803322Z",
     "shell.execute_reply": "2024-12-06T12:00:41.802872Z",
     "shell.execute_reply.started": "2024-12-06T12:00:41.793435Z"
    }
   },
   "outputs": [],
   "source": [
    "model.compile(optimizer=SGD(learning_rate=0.002, momentum=0.8), \n",
    "              loss=\"binary_crossentropy\", metrics=[\"accuracy\"])"
   ]
  },
  {
   "cell_type": "markdown",
   "id": "85f50a57-4053-485c-8faf-259543b995c3",
   "metadata": {},
   "source": [
    "### No 2"
   ]
  },
  {
   "cell_type": "code",
   "execution_count": 11,
   "id": "ec791fb1-1d97-4c47-80ad-166314916d81",
   "metadata": {
    "execution": {
     "iopub.execute_input": "2024-12-06T12:00:41.804301Z",
     "iopub.status.busy": "2024-12-06T12:00:41.803941Z",
     "iopub.status.idle": "2024-12-06T12:00:41.817315Z",
     "shell.execute_reply": "2024-12-06T12:00:41.816824Z",
     "shell.execute_reply.started": "2024-12-06T12:00:41.804281Z"
    }
   },
   "outputs": [
    {
     "data": {
      "text/html": [
       "<pre style=\"white-space:pre;overflow-x:auto;line-height:normal;font-family:Menlo,'DejaVu Sans Mono',consolas,'Courier New',monospace\"><span style=\"font-weight: bold\">Model: \"sequential\"</span>\n",
       "</pre>\n"
      ],
      "text/plain": [
       "\u001b[1mModel: \"sequential\"\u001b[0m\n"
      ]
     },
     "metadata": {},
     "output_type": "display_data"
    },
    {
     "data": {
      "text/html": [
       "<pre style=\"white-space:pre;overflow-x:auto;line-height:normal;font-family:Menlo,'DejaVu Sans Mono',consolas,'Courier New',monospace\">┏━━━━━━━━━━━━━━━━━━━━━━━━━━━━━━━━━┳━━━━━━━━━━━━━━━━━━━━━━━━┳━━━━━━━━━━━━━━━┓\n",
       "┃<span style=\"font-weight: bold\"> Layer (type)                    </span>┃<span style=\"font-weight: bold\"> Output Shape           </span>┃<span style=\"font-weight: bold\">       Param # </span>┃\n",
       "┡━━━━━━━━━━━━━━━━━━━━━━━━━━━━━━━━━╇━━━━━━━━━━━━━━━━━━━━━━━━╇━━━━━━━━━━━━━━━┩\n",
       "│ conv2d (<span style=\"color: #0087ff; text-decoration-color: #0087ff\">Conv2D</span>)                 │ (<span style=\"color: #00d7ff; text-decoration-color: #00d7ff\">None</span>, <span style=\"color: #00af00; text-decoration-color: #00af00\">198</span>, <span style=\"color: #00af00; text-decoration-color: #00af00\">198</span>, <span style=\"color: #00af00; text-decoration-color: #00af00\">32</span>)   │           <span style=\"color: #00af00; text-decoration-color: #00af00\">896</span> │\n",
       "├─────────────────────────────────┼────────────────────────┼───────────────┤\n",
       "│ max_pooling2d (<span style=\"color: #0087ff; text-decoration-color: #0087ff\">MaxPooling2D</span>)    │ (<span style=\"color: #00d7ff; text-decoration-color: #00d7ff\">None</span>, <span style=\"color: #00af00; text-decoration-color: #00af00\">99</span>, <span style=\"color: #00af00; text-decoration-color: #00af00\">99</span>, <span style=\"color: #00af00; text-decoration-color: #00af00\">32</span>)     │             <span style=\"color: #00af00; text-decoration-color: #00af00\">0</span> │\n",
       "├─────────────────────────────────┼────────────────────────┼───────────────┤\n",
       "│ flatten (<span style=\"color: #0087ff; text-decoration-color: #0087ff\">Flatten</span>)               │ (<span style=\"color: #00d7ff; text-decoration-color: #00d7ff\">None</span>, <span style=\"color: #00af00; text-decoration-color: #00af00\">313632</span>)         │             <span style=\"color: #00af00; text-decoration-color: #00af00\">0</span> │\n",
       "├─────────────────────────────────┼────────────────────────┼───────────────┤\n",
       "│ dense (<span style=\"color: #0087ff; text-decoration-color: #0087ff\">Dense</span>)                   │ (<span style=\"color: #00d7ff; text-decoration-color: #00d7ff\">None</span>, <span style=\"color: #00af00; text-decoration-color: #00af00\">64</span>)             │    <span style=\"color: #00af00; text-decoration-color: #00af00\">20,072,512</span> │\n",
       "├─────────────────────────────────┼────────────────────────┼───────────────┤\n",
       "│ dense_1 (<span style=\"color: #0087ff; text-decoration-color: #0087ff\">Dense</span>)                 │ (<span style=\"color: #00d7ff; text-decoration-color: #00d7ff\">None</span>, <span style=\"color: #00af00; text-decoration-color: #00af00\">1</span>)              │            <span style=\"color: #00af00; text-decoration-color: #00af00\">65</span> │\n",
       "└─────────────────────────────────┴────────────────────────┴───────────────┘\n",
       "</pre>\n"
      ],
      "text/plain": [
       "┏━━━━━━━━━━━━━━━━━━━━━━━━━━━━━━━━━┳━━━━━━━━━━━━━━━━━━━━━━━━┳━━━━━━━━━━━━━━━┓\n",
       "┃\u001b[1m \u001b[0m\u001b[1mLayer (type)                   \u001b[0m\u001b[1m \u001b[0m┃\u001b[1m \u001b[0m\u001b[1mOutput Shape          \u001b[0m\u001b[1m \u001b[0m┃\u001b[1m \u001b[0m\u001b[1m      Param #\u001b[0m\u001b[1m \u001b[0m┃\n",
       "┡━━━━━━━━━━━━━━━━━━━━━━━━━━━━━━━━━╇━━━━━━━━━━━━━━━━━━━━━━━━╇━━━━━━━━━━━━━━━┩\n",
       "│ conv2d (\u001b[38;5;33mConv2D\u001b[0m)                 │ (\u001b[38;5;45mNone\u001b[0m, \u001b[38;5;34m198\u001b[0m, \u001b[38;5;34m198\u001b[0m, \u001b[38;5;34m32\u001b[0m)   │           \u001b[38;5;34m896\u001b[0m │\n",
       "├─────────────────────────────────┼────────────────────────┼───────────────┤\n",
       "│ max_pooling2d (\u001b[38;5;33mMaxPooling2D\u001b[0m)    │ (\u001b[38;5;45mNone\u001b[0m, \u001b[38;5;34m99\u001b[0m, \u001b[38;5;34m99\u001b[0m, \u001b[38;5;34m32\u001b[0m)     │             \u001b[38;5;34m0\u001b[0m │\n",
       "├─────────────────────────────────┼────────────────────────┼───────────────┤\n",
       "│ flatten (\u001b[38;5;33mFlatten\u001b[0m)               │ (\u001b[38;5;45mNone\u001b[0m, \u001b[38;5;34m313632\u001b[0m)         │             \u001b[38;5;34m0\u001b[0m │\n",
       "├─────────────────────────────────┼────────────────────────┼───────────────┤\n",
       "│ dense (\u001b[38;5;33mDense\u001b[0m)                   │ (\u001b[38;5;45mNone\u001b[0m, \u001b[38;5;34m64\u001b[0m)             │    \u001b[38;5;34m20,072,512\u001b[0m │\n",
       "├─────────────────────────────────┼────────────────────────┼───────────────┤\n",
       "│ dense_1 (\u001b[38;5;33mDense\u001b[0m)                 │ (\u001b[38;5;45mNone\u001b[0m, \u001b[38;5;34m1\u001b[0m)              │            \u001b[38;5;34m65\u001b[0m │\n",
       "└─────────────────────────────────┴────────────────────────┴───────────────┘\n"
      ]
     },
     "metadata": {},
     "output_type": "display_data"
    },
    {
     "data": {
      "text/html": [
       "<pre style=\"white-space:pre;overflow-x:auto;line-height:normal;font-family:Menlo,'DejaVu Sans Mono',consolas,'Courier New',monospace\"><span style=\"font-weight: bold\"> Total params: </span><span style=\"color: #00af00; text-decoration-color: #00af00\">20,073,473</span> (76.57 MB)\n",
       "</pre>\n"
      ],
      "text/plain": [
       "\u001b[1m Total params: \u001b[0m\u001b[38;5;34m20,073,473\u001b[0m (76.57 MB)\n"
      ]
     },
     "metadata": {},
     "output_type": "display_data"
    },
    {
     "data": {
      "text/html": [
       "<pre style=\"white-space:pre;overflow-x:auto;line-height:normal;font-family:Menlo,'DejaVu Sans Mono',consolas,'Courier New',monospace\"><span style=\"font-weight: bold\"> Trainable params: </span><span style=\"color: #00af00; text-decoration-color: #00af00\">20,073,473</span> (76.57 MB)\n",
       "</pre>\n"
      ],
      "text/plain": [
       "\u001b[1m Trainable params: \u001b[0m\u001b[38;5;34m20,073,473\u001b[0m (76.57 MB)\n"
      ]
     },
     "metadata": {},
     "output_type": "display_data"
    },
    {
     "data": {
      "text/html": [
       "<pre style=\"white-space:pre;overflow-x:auto;line-height:normal;font-family:Menlo,'DejaVu Sans Mono',consolas,'Courier New',monospace\"><span style=\"font-weight: bold\"> Non-trainable params: </span><span style=\"color: #00af00; text-decoration-color: #00af00\">0</span> (0.00 B)\n",
       "</pre>\n"
      ],
      "text/plain": [
       "\u001b[1m Non-trainable params: \u001b[0m\u001b[38;5;34m0\u001b[0m (0.00 B)\n"
      ]
     },
     "metadata": {},
     "output_type": "display_data"
    }
   ],
   "source": [
    "model.summary()"
   ]
  },
  {
   "cell_type": "code",
   "execution_count": 12,
   "id": "62f08ccd-18e8-4327-bd53-dd2be15988e0",
   "metadata": {
    "execution": {
     "iopub.execute_input": "2024-12-06T12:00:41.818549Z",
     "iopub.status.busy": "2024-12-06T12:00:41.817951Z",
     "iopub.status.idle": "2024-12-06T12:00:41.821942Z",
     "shell.execute_reply": "2024-12-06T12:00:41.821443Z",
     "shell.execute_reply.started": "2024-12-06T12:00:41.818520Z"
    }
   },
   "outputs": [],
   "source": [
    "from tensorflow.keras.preprocessing.image import ImageDataGenerator"
   ]
  },
  {
   "cell_type": "code",
   "execution_count": 13,
   "id": "49407b8b-a88b-4892-a74c-6071013a6065",
   "metadata": {
    "execution": {
     "iopub.execute_input": "2024-12-06T12:00:41.822866Z",
     "iopub.status.busy": "2024-12-06T12:00:41.822550Z",
     "iopub.status.idle": "2024-12-06T12:00:41.826915Z",
     "shell.execute_reply": "2024-12-06T12:00:41.826451Z",
     "shell.execute_reply.started": "2024-12-06T12:00:41.822835Z"
    }
   },
   "outputs": [],
   "source": [
    "train = ImageDataGenerator(rescale=1./255)"
   ]
  },
  {
   "cell_type": "code",
   "execution_count": 14,
   "id": "9e49146d-3b49-45de-8cbf-2e1f43836e7c",
   "metadata": {
    "execution": {
     "iopub.execute_input": "2024-12-06T12:00:41.828922Z",
     "iopub.status.busy": "2024-12-06T12:00:41.828674Z",
     "iopub.status.idle": "2024-12-06T12:00:41.853498Z",
     "shell.execute_reply": "2024-12-06T12:00:41.853082Z",
     "shell.execute_reply.started": "2024-12-06T12:00:41.828905Z"
    }
   },
   "outputs": [
    {
     "name": "stdout",
     "output_type": "stream",
     "text": [
      "Found 800 images belonging to 2 classes.\n"
     ]
    }
   ],
   "source": [
    "train_gen = train.flow_from_directory(\"./extracted_data/data/train\", \n",
    "                                      target_size=(200, 200), batch_size=20,\n",
    "                                      shuffle=True, class_mode=\"binary\")"
   ]
  },
  {
   "cell_type": "code",
   "execution_count": 15,
   "id": "13c32049-6587-4cfc-816c-d2c1c51ba09e",
   "metadata": {
    "execution": {
     "iopub.execute_input": "2024-12-06T12:00:41.855133Z",
     "iopub.status.busy": "2024-12-06T12:00:41.854525Z",
     "iopub.status.idle": "2024-12-06T12:00:42.501453Z",
     "shell.execute_reply": "2024-12-06T12:00:42.500838Z",
     "shell.execute_reply.started": "2024-12-06T12:00:41.855106Z"
    }
   },
   "outputs": [
    {
     "name": "stdout",
     "output_type": "stream",
     "text": [
      "total 48\n",
      "drwxrwsr-x 2 jovyan jovyan 20480 Dec  2 00:22 curly\n",
      "drwxrwsr-x 2 jovyan jovyan 20480 Dec  2 00:22 straight\n"
     ]
    }
   ],
   "source": [
    "!ls -l extracted_data/data/train"
   ]
  },
  {
   "cell_type": "code",
   "execution_count": 16,
   "id": "29f0685a-451d-4e29-82f9-fb5d283b8e79",
   "metadata": {
    "execution": {
     "iopub.execute_input": "2024-12-06T12:00:42.502691Z",
     "iopub.status.busy": "2024-12-06T12:00:42.502366Z",
     "iopub.status.idle": "2024-12-06T12:00:42.514869Z",
     "shell.execute_reply": "2024-12-06T12:00:42.514417Z",
     "shell.execute_reply.started": "2024-12-06T12:00:42.502667Z"
    }
   },
   "outputs": [
    {
     "name": "stdout",
     "output_type": "stream",
     "text": [
      "Found 201 images belonging to 2 classes.\n"
     ]
    }
   ],
   "source": [
    "test = ImageDataGenerator(rescale=1./255)\n",
    "test_gen = test.flow_from_directory(\"./extracted_data/data/test\", \n",
    "                                    target_size=(200, 200), batch_size=20,\n",
    "                                    shuffle=True, class_mode=\"binary\")"
   ]
  },
  {
   "cell_type": "code",
   "execution_count": 17,
   "id": "c599cd70-d47a-479d-8f5f-b4142e1c1a7e",
   "metadata": {
    "execution": {
     "iopub.execute_input": "2024-12-06T12:00:42.515695Z",
     "iopub.status.busy": "2024-12-06T12:00:42.515422Z",
     "iopub.status.idle": "2024-12-06T12:01:36.838102Z",
     "shell.execute_reply": "2024-12-06T12:01:36.837513Z",
     "shell.execute_reply.started": "2024-12-06T12:00:42.515675Z"
    }
   },
   "outputs": [
    {
     "name": "stderr",
     "output_type": "stream",
     "text": [
      "/opt/saturncloud/envs/saturn/lib/python3.12/site-packages/keras/src/trainers/data_adapters/py_dataset_adapter.py:121: UserWarning: Your `PyDataset` class should call `super().__init__(**kwargs)` in its constructor. `**kwargs` can include `workers`, `use_multiprocessing`, `max_queue_size`. Do not pass these arguments to `fit()`, as they will be ignored.\n",
      "  self._warn_if_super_not_called()\n"
     ]
    },
    {
     "name": "stdout",
     "output_type": "stream",
     "text": [
      "Epoch 1/10\n"
     ]
    },
    {
     "name": "stderr",
     "output_type": "stream",
     "text": [
      "WARNING: All log messages before absl::InitializeLog() is called are written to STDERR\n",
      "I0000 00:00:1733486443.481429   19409 service.cc:148] XLA service 0x7f0e98003990 initialized for platform CUDA (this does not guarantee that XLA will be used). Devices:\n",
      "I0000 00:00:1733486443.481465   19409 service.cc:156]   StreamExecutor device (0): Tesla T4, Compute Capability 7.5\n",
      "2024-12-06 12:00:43.510845: I tensorflow/compiler/mlir/tensorflow/utils/dump_mlir_util.cc:268] disabling MLIR crash reproducer, set env var `MLIR_CRASH_REPRODUCER_DIRECTORY` to enable.\n",
      "I0000 00:00:1733486443.597523   19409 cuda_dnn.cc:529] Loaded cuDNN version 90300\n",
      "2024-12-06 12:00:43.881474: I external/local_xla/xla/service/gpu/autotuning/conv_algorithm_picker.cc:557] Omitted potentially buggy algorithm eng14{k25=0} for conv (f32[20,32,198,198]{3,2,1,0}, u8[0]{0}) custom-call(f32[20,3,200,200]{3,2,1,0}, f32[32,3,3,3]{3,2,1,0}, f32[32]{0}), window={size=3x3}, dim_labels=bf01_oi01->bf01, custom_call_target=\"__cudnn$convBiasActivationForward\", backend_config={\"cudnn_conv_backend_config\":{\"activation_mode\":\"kNone\",\"conv_result_scale\":1,\"leakyrelu_alpha\":0,\"side_input_scale\":0},\"force_earliest_schedule\":false,\"operation_queue_id\":\"0\",\"wait_on_operation_queues\":[]}\n",
      "2024-12-06 12:00:44.689112: W external/local_xla/xla/service/gpu/nvptx_compiler.cc:930] The NVIDIA driver's CUDA version is 12.4 which is older than the PTX compiler version 12.5.82. Because the driver is older than the PTX compiler version, XLA is disabling parallel compilation, which may slow down compilation. You should update your NVIDIA driver or use the NVIDIA-provided CUDA forward compatibility packages.\n"
     ]
    },
    {
     "name": "stdout",
     "output_type": "stream",
     "text": [
      "\u001b[1m 3/40\u001b[0m \u001b[32m━\u001b[0m\u001b[37m━━━━━━━━━━━━━━━━━━━\u001b[0m \u001b[1m2s\u001b[0m 57ms/step - accuracy: 0.4194 - loss: 0.7425"
     ]
    },
    {
     "name": "stderr",
     "output_type": "stream",
     "text": [
      "I0000 00:00:1733486445.026414   19409 device_compiler.h:188] Compiled cluster using XLA!  This line is logged at most once for the lifetime of the process.\n"
     ]
    },
    {
     "name": "stdout",
     "output_type": "stream",
     "text": [
      "\u001b[1m40/40\u001b[0m \u001b[32m━━━━━━━━━━━━━━━━━━━━\u001b[0m\u001b[37m\u001b[0m \u001b[1m0s\u001b[0m 105ms/step - accuracy: 0.5532 - loss: 0.6888"
     ]
    },
    {
     "name": "stderr",
     "output_type": "stream",
     "text": [
      "2024-12-06 12:00:49.743985: I external/local_xla/xla/service/gpu/autotuning/conv_algorithm_picker.cc:557] Omitted potentially buggy algorithm eng14{k25=0} for conv (f32[20,32,198,198]{3,2,1,0}, u8[0]{0}) custom-call(f32[20,3,200,200]{3,2,1,0}, f32[32,3,3,3]{3,2,1,0}, f32[32]{0}), window={size=3x3}, dim_labels=bf01_oi01->bf01, custom_call_target=\"__cudnn$convBiasActivationForward\", backend_config={\"cudnn_conv_backend_config\":{\"activation_mode\":\"kRelu\",\"conv_result_scale\":1,\"leakyrelu_alpha\":0,\"side_input_scale\":0},\"force_earliest_schedule\":false,\"operation_queue_id\":\"0\",\"wait_on_operation_queues\":[]}\n"
     ]
    },
    {
     "name": "stdout",
     "output_type": "stream",
     "text": [
      "\u001b[1m40/40\u001b[0m \u001b[32m━━━━━━━━━━━━━━━━━━━━\u001b[0m\u001b[37m\u001b[0m \u001b[1m9s\u001b[0m 161ms/step - accuracy: 0.5544 - loss: 0.6880 - val_accuracy: 0.6368 - val_loss: 0.6223\n",
      "Epoch 2/10\n",
      "\u001b[1m40/40\u001b[0m \u001b[32m━━━━━━━━━━━━━━━━━━━━\u001b[0m\u001b[37m\u001b[0m \u001b[1m5s\u001b[0m 125ms/step - accuracy: 0.6662 - loss: 0.6053 - val_accuracy: 0.6418 - val_loss: 0.6192\n",
      "Epoch 3/10\n",
      "\u001b[1m40/40\u001b[0m \u001b[32m━━━━━━━━━━━━━━━━━━━━\u001b[0m\u001b[37m\u001b[0m \u001b[1m5s\u001b[0m 121ms/step - accuracy: 0.6997 - loss: 0.5536 - val_accuracy: 0.6567 - val_loss: 0.6249\n",
      "Epoch 4/10\n",
      "\u001b[1m40/40\u001b[0m \u001b[32m━━━━━━━━━━━━━━━━━━━━\u001b[0m\u001b[37m\u001b[0m \u001b[1m5s\u001b[0m 129ms/step - accuracy: 0.7259 - loss: 0.5490 - val_accuracy: 0.5721 - val_loss: 0.7026\n",
      "Epoch 5/10\n",
      "\u001b[1m40/40\u001b[0m \u001b[32m━━━━━━━━━━━━━━━━━━━━\u001b[0m\u001b[37m\u001b[0m \u001b[1m5s\u001b[0m 126ms/step - accuracy: 0.6957 - loss: 0.5635 - val_accuracy: 0.6418 - val_loss: 0.6295\n",
      "Epoch 6/10\n",
      "\u001b[1m40/40\u001b[0m \u001b[32m━━━━━━━━━━━━━━━━━━━━\u001b[0m\u001b[37m\u001b[0m \u001b[1m5s\u001b[0m 127ms/step - accuracy: 0.7574 - loss: 0.5116 - val_accuracy: 0.6716 - val_loss: 0.6102\n",
      "Epoch 7/10\n",
      "\u001b[1m40/40\u001b[0m \u001b[32m━━━━━━━━━━━━━━━━━━━━\u001b[0m\u001b[37m\u001b[0m \u001b[1m5s\u001b[0m 126ms/step - accuracy: 0.7551 - loss: 0.5074 - val_accuracy: 0.6816 - val_loss: 0.6227\n",
      "Epoch 8/10\n",
      "\u001b[1m40/40\u001b[0m \u001b[32m━━━━━━━━━━━━━━━━━━━━\u001b[0m\u001b[37m\u001b[0m \u001b[1m5s\u001b[0m 128ms/step - accuracy: 0.7890 - loss: 0.4829 - val_accuracy: 0.6567 - val_loss: 0.5988\n",
      "Epoch 9/10\n",
      "\u001b[1m40/40\u001b[0m \u001b[32m━━━━━━━━━━━━━━━━━━━━\u001b[0m\u001b[37m\u001b[0m \u001b[1m5s\u001b[0m 126ms/step - accuracy: 0.7543 - loss: 0.4988 - val_accuracy: 0.6766 - val_loss: 0.5983\n",
      "Epoch 10/10\n",
      "\u001b[1m40/40\u001b[0m \u001b[32m━━━━━━━━━━━━━━━━━━━━\u001b[0m\u001b[37m\u001b[0m \u001b[1m5s\u001b[0m 126ms/step - accuracy: 0.7848 - loss: 0.4668 - val_accuracy: 0.6269 - val_loss: 0.6995\n"
     ]
    }
   ],
   "source": [
    "history = model.fit(train_gen, epochs=10, validation_data=test_gen)"
   ]
  },
  {
   "cell_type": "code",
   "execution_count": 18,
   "id": "b21e231b-522c-4a8f-ab92-3fffdbe38fc1",
   "metadata": {
    "execution": {
     "iopub.execute_input": "2024-12-06T12:01:36.839380Z",
     "iopub.status.busy": "2024-12-06T12:01:36.839072Z",
     "iopub.status.idle": "2024-12-06T12:01:36.843905Z",
     "shell.execute_reply": "2024-12-06T12:01:36.843344Z",
     "shell.execute_reply.started": "2024-12-06T12:01:36.839358Z"
    }
   },
   "outputs": [
    {
     "data": {
      "text/plain": [
       "{'accuracy': [0.6012499928474426,\n",
       "  0.6712499856948853,\n",
       "  0.6887500286102295,\n",
       "  0.7137500047683716,\n",
       "  0.706250011920929,\n",
       "  0.7462499737739563,\n",
       "  0.7487499713897705,\n",
       "  0.7787500023841858,\n",
       "  0.7712500095367432,\n",
       "  0.7699999809265137],\n",
       " 'loss': [0.6533896923065186,\n",
       "  0.5983843803405762,\n",
       "  0.580007016658783,\n",
       "  0.5538290143013,\n",
       "  0.5497908592224121,\n",
       "  0.5230856537818909,\n",
       "  0.5067254900932312,\n",
       "  0.48654624819755554,\n",
       "  0.4755897521972656,\n",
       "  0.48372650146484375],\n",
       " 'val_accuracy': [0.6368159055709839,\n",
       "  0.641791045665741,\n",
       "  0.6567164063453674,\n",
       "  0.572139322757721,\n",
       "  0.641791045665741,\n",
       "  0.6716417670249939,\n",
       "  0.6815920472145081,\n",
       "  0.6567164063453674,\n",
       "  0.676616907119751,\n",
       "  0.6268656849861145],\n",
       " 'val_loss': [0.6223081946372986,\n",
       "  0.6192444562911987,\n",
       "  0.6248947381973267,\n",
       "  0.7026378512382507,\n",
       "  0.6294825673103333,\n",
       "  0.6102294325828552,\n",
       "  0.6226873993873596,\n",
       "  0.5988038182258606,\n",
       "  0.598345160484314,\n",
       "  0.6995453834533691]}"
      ]
     },
     "execution_count": 18,
     "metadata": {},
     "output_type": "execute_result"
    }
   ],
   "source": [
    "history.history"
   ]
  },
  {
   "cell_type": "code",
   "execution_count": 19,
   "id": "97009f7d-1cf3-4d1d-b5e0-b135ab2ec440",
   "metadata": {
    "execution": {
     "iopub.execute_input": "2024-12-06T12:01:36.844851Z",
     "iopub.status.busy": "2024-12-06T12:01:36.844558Z",
     "iopub.status.idle": "2024-12-06T12:01:36.989651Z",
     "shell.execute_reply": "2024-12-06T12:01:36.989149Z",
     "shell.execute_reply.started": "2024-12-06T12:01:36.844833Z"
    }
   },
   "outputs": [
    {
     "data": {
      "text/plain": [
       "<matplotlib.legend.Legend at 0x7f0f61d22ea0>"
      ]
     },
     "execution_count": 19,
     "metadata": {},
     "output_type": "execute_result"
    },
    {
     "data": {
      "image/png": "[encoded data removed]",
      "text/plain": [
       "<Figure size 640x480 with 1 Axes>"
      ]
     },
     "metadata": {},
     "output_type": "display_data"
    }
   ],
   "source": [
    "plt.plot(history.history[\"accuracy\"], label=\"train\")\n",
    "plt.plot(history.history[\"val_accuracy\"], label=\"test\")\n",
    "# plt.xticks(np.arange(10))\n",
    "plt.legend()"
   ]
  },
  {
   "cell_type": "markdown",
   "id": "dffa9f9c-21f0-4260-8f7d-1d34182c1af0",
   "metadata": {},
   "source": [
    "### No 3"
   ]
  },
  {
   "cell_type": "code",
   "execution_count": 20,
   "id": "9f9e4e2e-e4b3-4415-9077-d791b098a307",
   "metadata": {
    "execution": {
     "iopub.execute_input": "2024-12-06T12:01:36.990524Z",
     "iopub.status.busy": "2024-12-06T12:01:36.990274Z",
     "iopub.status.idle": "2024-12-06T12:01:36.994733Z",
     "shell.execute_reply": "2024-12-06T12:01:36.994254Z",
     "shell.execute_reply.started": "2024-12-06T12:01:36.990508Z"
    }
   },
   "outputs": [
    {
     "data": {
      "text/plain": [
       "np.float64(0.7299999892711639)"
      ]
     },
     "execution_count": 20,
     "metadata": {},
     "output_type": "execute_result"
    }
   ],
   "source": [
    "median = np.median(history.history[\"accuracy\"])\n",
    "median"
   ]
  },
  {
   "cell_type": "markdown",
   "id": "ef22b992-2637-4c71-b27c-145eb3213f83",
   "metadata": {},
   "source": [
    "### No 4"
   ]
  },
  {
   "cell_type": "code",
   "execution_count": 21,
   "id": "4872ae59-5391-48cf-97e5-a8d9ad0a1778",
   "metadata": {
    "execution": {
     "iopub.execute_input": "2024-12-06T12:01:36.995527Z",
     "iopub.status.busy": "2024-12-06T12:01:36.995275Z",
     "iopub.status.idle": "2024-12-06T12:01:37.000969Z",
     "shell.execute_reply": "2024-12-06T12:01:37.000465Z",
     "shell.execute_reply.started": "2024-12-06T12:01:36.995510Z"
    }
   },
   "outputs": [
    {
     "data": {
      "text/plain": [
       "np.float64(0.054504436328710264)"
      ]
     },
     "execution_count": 21,
     "metadata": {},
     "output_type": "execute_result"
    }
   ],
   "source": [
    "std_train_loss = np.std(history.history[\"loss\"])\n",
    "std_train_loss"
   ]
  },
  {
   "cell_type": "code",
   "execution_count": 22,
   "id": "e5aeb657-aff2-426b-b7a3-95be55978515",
   "metadata": {
    "execution": {
     "iopub.execute_input": "2024-12-06T12:01:37.001778Z",
     "iopub.status.busy": "2024-12-06T12:01:37.001551Z",
     "iopub.status.idle": "2024-12-06T12:01:37.024998Z",
     "shell.execute_reply": "2024-12-06T12:01:37.024579Z",
     "shell.execute_reply.started": "2024-12-06T12:01:37.001761Z"
    }
   },
   "outputs": [
    {
     "name": "stdout",
     "output_type": "stream",
     "text": [
      "Found 800 images belonging to 2 classes.\n"
     ]
    }
   ],
   "source": [
    "train = ImageDataGenerator(rescale=1./255, rotation_range=50, width_shift_range=0.1,\n",
    "                          height_shift_range=0.1, zoom_range=0.1, horizontal_flip=True,\n",
    "                          fill_mode=\"nearest\")\n",
    "train_gen = train.flow_from_directory(\"./extracted_data/data/train\", \n",
    "                                      target_size=(200, 200), batch_size=20,\n",
    "                                      shuffle=True, class_mode=\"binary\")"
   ]
  },
  {
   "cell_type": "code",
   "execution_count": 23,
   "id": "781be547-ab49-4aab-b0e9-9eb36ebec3e9",
   "metadata": {
    "execution": {
     "iopub.execute_input": "2024-12-06T12:01:37.026015Z",
     "iopub.status.busy": "2024-12-06T12:01:37.025596Z",
     "iopub.status.idle": "2024-12-06T12:03:23.119409Z",
     "shell.execute_reply": "2024-12-06T12:03:23.118906Z",
     "shell.execute_reply.started": "2024-12-06T12:01:37.025994Z"
    }
   },
   "outputs": [
    {
     "name": "stdout",
     "output_type": "stream",
     "text": [
      "Epoch 1/10\n",
      "\u001b[1m40/40\u001b[0m \u001b[32m━━━━━━━━━━━━━━━━━━━━\u001b[0m\u001b[37m\u001b[0m \u001b[1m11s\u001b[0m 270ms/step - accuracy: 0.5960 - loss: 0.6350 - val_accuracy: 0.6468 - val_loss: 0.5783\n",
      "Epoch 2/10\n",
      "\u001b[1m40/40\u001b[0m \u001b[32m━━━━━━━━━━━━━━━━━━━━\u001b[0m\u001b[37m\u001b[0m \u001b[1m11s\u001b[0m 266ms/step - accuracy: 0.6756 - loss: 0.6034 - val_accuracy: 0.6816 - val_loss: 0.5696\n",
      "Epoch 3/10\n",
      "\u001b[1m40/40\u001b[0m \u001b[32m━━━━━━━━━━━━━━━━━━━━\u001b[0m\u001b[37m\u001b[0m \u001b[1m10s\u001b[0m 262ms/step - accuracy: 0.6765 - loss: 0.6111 - val_accuracy: 0.7065 - val_loss: 0.5652\n",
      "Epoch 4/10\n",
      "\u001b[1m40/40\u001b[0m \u001b[32m━━━━━━━━━━━━━━━━━━━━\u001b[0m\u001b[37m\u001b[0m \u001b[1m10s\u001b[0m 259ms/step - accuracy: 0.6772 - loss: 0.5994 - val_accuracy: 0.6716 - val_loss: 0.6245\n",
      "Epoch 5/10\n",
      "\u001b[1m40/40\u001b[0m \u001b[32m━━━━━━━━━━━━━━━━━━━━\u001b[0m\u001b[37m\u001b[0m \u001b[1m10s\u001b[0m 263ms/step - accuracy: 0.6639 - loss: 0.6071 - val_accuracy: 0.7313 - val_loss: 0.5525\n",
      "Epoch 6/10\n",
      "\u001b[1m40/40\u001b[0m \u001b[32m━━━━━━━━━━━━━━━━━━━━\u001b[0m\u001b[37m\u001b[0m \u001b[1m10s\u001b[0m 257ms/step - accuracy: 0.6967 - loss: 0.5846 - val_accuracy: 0.6915 - val_loss: 0.6040\n",
      "Epoch 7/10\n",
      "\u001b[1m40/40\u001b[0m \u001b[32m━━━━━━━━━━━━━━━━━━━━\u001b[0m\u001b[37m\u001b[0m \u001b[1m11s\u001b[0m 265ms/step - accuracy: 0.6941 - loss: 0.5950 - val_accuracy: 0.6567 - val_loss: 0.6253\n",
      "Epoch 8/10\n",
      "\u001b[1m40/40\u001b[0m \u001b[32m━━━━━━━━━━━━━━━━━━━━\u001b[0m\u001b[37m\u001b[0m \u001b[1m11s\u001b[0m 261ms/step - accuracy: 0.7310 - loss: 0.5587 - val_accuracy: 0.7065 - val_loss: 0.5511\n",
      "Epoch 9/10\n",
      "\u001b[1m40/40\u001b[0m \u001b[32m━━━━━━━━━━━━━━━━━━━━\u001b[0m\u001b[37m\u001b[0m \u001b[1m10s\u001b[0m 263ms/step - accuracy: 0.6848 - loss: 0.5936 - val_accuracy: 0.7065 - val_loss: 0.5395\n",
      "Epoch 10/10\n",
      "\u001b[1m40/40\u001b[0m \u001b[32m━━━━━━━━━━━━━━━━━━━━\u001b[0m\u001b[37m\u001b[0m \u001b[1m10s\u001b[0m 262ms/step - accuracy: 0.6908 - loss: 0.5844 - val_accuracy: 0.6915 - val_loss: 0.5465\n"
     ]
    }
   ],
   "source": [
    "history = model.fit(train_gen, epochs=10, validation_data=test_gen)"
   ]
  },
  {
   "cell_type": "code",
   "execution_count": 24,
   "id": "f99da895-d0b5-4baa-b13a-06c82d921ebf",
   "metadata": {
    "execution": {
     "iopub.execute_input": "2024-12-06T12:03:23.120704Z",
     "iopub.status.busy": "2024-12-06T12:03:23.120213Z",
     "iopub.status.idle": "2024-12-06T12:03:23.125128Z",
     "shell.execute_reply": "2024-12-06T12:03:23.124551Z",
     "shell.execute_reply.started": "2024-12-06T12:03:23.120682Z"
    }
   },
   "outputs": [
    {
     "data": {
      "text/plain": [
       "{'accuracy': [0.6150000095367432,\n",
       "  0.6875,\n",
       "  0.6800000071525574,\n",
       "  0.699999988079071,\n",
       "  0.65625,\n",
       "  0.6837499737739563,\n",
       "  0.6899999976158142,\n",
       "  0.7124999761581421,\n",
       "  0.7112500071525574,\n",
       "  0.699999988079071],\n",
       " 'loss': [0.630435585975647,\n",
       "  0.6000000238418579,\n",
       "  0.6019496917724609,\n",
       "  0.5858417749404907,\n",
       "  0.6064015030860901,\n",
       "  0.5921674966812134,\n",
       "  0.5853064656257629,\n",
       "  0.5705509781837463,\n",
       "  0.5724237561225891,\n",
       "  0.5717432498931885],\n",
       " 'val_accuracy': [0.646766185760498,\n",
       "  0.6815920472145081,\n",
       "  0.7064676880836487,\n",
       "  0.6716417670249939,\n",
       "  0.7313432693481445,\n",
       "  0.6915422677993774,\n",
       "  0.6567164063453674,\n",
       "  0.7064676880836487,\n",
       "  0.7064676880836487,\n",
       "  0.6915422677993774],\n",
       " 'val_loss': [0.5783068537712097,\n",
       "  0.5695987939834595,\n",
       "  0.5651612877845764,\n",
       "  0.6244973540306091,\n",
       "  0.5525220036506653,\n",
       "  0.6040146350860596,\n",
       "  0.6252517104148865,\n",
       "  0.5510767698287964,\n",
       "  0.5394549369812012,\n",
       "  0.5464929938316345]}"
      ]
     },
     "execution_count": 24,
     "metadata": {},
     "output_type": "execute_result"
    }
   ],
   "source": [
    "history.history"
   ]
  },
  {
   "cell_type": "markdown",
   "id": "9cf6ff08-567b-406c-a26a-e7b2d3f271a7",
   "metadata": {},
   "source": [
    "### No 5"
   ]
  },
  {
   "cell_type": "code",
   "execution_count": 25,
   "id": "8a0e513b-c256-4383-ba21-9a2e6984e8a5",
   "metadata": {
    "execution": {
     "iopub.execute_input": "2024-12-06T12:03:23.126359Z",
     "iopub.status.busy": "2024-12-06T12:03:23.125901Z",
     "iopub.status.idle": "2024-12-06T12:03:23.131160Z",
     "shell.execute_reply": "2024-12-06T12:03:23.130670Z",
     "shell.execute_reply.started": "2024-12-06T12:03:23.126331Z"
    }
   },
   "outputs": [
    {
     "data": {
      "text/plain": [
       "np.float64(0.5756377339363098)"
      ]
     },
     "execution_count": 25,
     "metadata": {},
     "output_type": "execute_result"
    }
   ],
   "source": [
    "mean_test_loss = np.mean(history.history[\"val_loss\"])\n",
    "mean_test_loss"
   ]
  },
  {
   "cell_type": "markdown",
   "id": "c906e6e5-a2e8-4150-8c95-f94a5d672728",
   "metadata": {},
   "source": [
    "### No 6"
   ]
  },
  {
   "cell_type": "code",
   "execution_count": 27,
   "id": "d3389924-52f9-42cd-8088-75c27d94ae15",
   "metadata": {
    "execution": {
     "iopub.execute_input": "2024-12-06T12:03:54.463498Z",
     "iopub.status.busy": "2024-12-06T12:03:54.463148Z",
     "iopub.status.idle": "2024-12-06T12:03:54.468989Z",
     "shell.execute_reply": "2024-12-06T12:03:54.468362Z",
     "shell.execute_reply.started": "2024-12-06T12:03:54.463468Z"
    }
   },
   "outputs": [
    {
     "data": {
      "text/plain": [
       "np.float64(0.6902985125780106)"
      ]
     },
     "execution_count": 27,
     "metadata": {},
     "output_type": "execute_result"
    }
   ],
   "source": [
    "avg_test_acc = np.average(history.history[\"val_accuracy\"][6:11])\n",
    "avg_test_acc"
   ]
  }
 ],
 "metadata": {
  "kernelspec": {
   "display_name": "saturn (Python 3)",
   "language": "python",
   "name": "python3"
  },
  "language_info": {
   "codemirror_mode": {
    "name": "ipython",
    "version": 3
   },
   "file_extension": ".py",
   "mimetype": "text/x-python",
   "name": "python",
   "nbconvert_exporter": "python",
   "pygments_lexer": "ipython3",
   "version": "3.12.7"
  }
 },
 "nbformat": 4,
 "nbformat_minor": 5
}
