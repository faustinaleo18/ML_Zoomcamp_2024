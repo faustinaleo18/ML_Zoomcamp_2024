{
 "cells": [
  {
   "cell_type": "code",
   "execution_count": 1,
   "id": "3fee110d-4186-46a1-8372-7a9794fc72fd",
   "metadata": {},
   "outputs": [],
   "source": [
    "import pandas as pd\n",
    "import numpy as np\n",
    "import matplotlib.pyplot as plt\n",
    "%matplotlib inline\n",
    "\n",
    "from sklearn.model_selection import train_test_split, KFold\n",
    "from sklearn.metrics import roc_auc_score\n",
    "from sklearn.feature_extraction import DictVectorizer\n",
    "from sklearn.linear_model import LogisticRegression"
   ]
  },
  {
   "cell_type": "code",
   "execution_count": 2,
   "id": "37efe764-104b-486e-bff9-d8310897beec",
   "metadata": {},
   "outputs": [],
   "source": [
    "# data = \"https://archive.ics.uci.edu/static/public/222/bank+marketing.zip\"\n",
    "# !python -m wget $data"
   ]
  },
  {
   "cell_type": "code",
   "execution_count": 3,
   "id": "407a4751-7525-436f-8ba9-c0486f165863",
   "metadata": {},
   "outputs": [
    {
     "data": {
      "text/html": [
       "<div>\n",
       "<style scoped>\n",
       "    .dataframe tbody tr th:only-of-type {\n",
       "        vertical-align: middle;\n",
       "    }\n",
       "\n",
       "    .dataframe tbody tr th {\n",
       "        vertical-align: top;\n",
       "    }\n",
       "\n",
       "    .dataframe thead th {\n",
       "        text-align: right;\n",
       "    }\n",
       "</style>\n",
       "<table border=\"1\" class=\"dataframe\">\n",
       "  <thead>\n",
       "    <tr style=\"text-align: right;\">\n",
       "      <th></th>\n",
       "      <th>age</th>\n",
       "      <th>job</th>\n",
       "      <th>marital</th>\n",
       "      <th>education</th>\n",
       "      <th>balance</th>\n",
       "      <th>housing</th>\n",
       "      <th>contact</th>\n",
       "      <th>day</th>\n",
       "      <th>month</th>\n",
       "      <th>duration</th>\n",
       "      <th>campaign</th>\n",
       "      <th>pdays</th>\n",
       "      <th>previous</th>\n",
       "      <th>poutcome</th>\n",
       "      <th>y</th>\n",
       "    </tr>\n",
       "  </thead>\n",
       "  <tbody>\n",
       "    <tr>\n",
       "      <th>0</th>\n",
       "      <td>58</td>\n",
       "      <td>management</td>\n",
       "      <td>married</td>\n",
       "      <td>tertiary</td>\n",
       "      <td>2143</td>\n",
       "      <td>yes</td>\n",
       "      <td>unknown</td>\n",
       "      <td>5</td>\n",
       "      <td>may</td>\n",
       "      <td>261</td>\n",
       "      <td>1</td>\n",
       "      <td>-1</td>\n",
       "      <td>0</td>\n",
       "      <td>unknown</td>\n",
       "      <td>0</td>\n",
       "    </tr>\n",
       "    <tr>\n",
       "      <th>1</th>\n",
       "      <td>44</td>\n",
       "      <td>technician</td>\n",
       "      <td>single</td>\n",
       "      <td>secondary</td>\n",
       "      <td>29</td>\n",
       "      <td>yes</td>\n",
       "      <td>unknown</td>\n",
       "      <td>5</td>\n",
       "      <td>may</td>\n",
       "      <td>151</td>\n",
       "      <td>1</td>\n",
       "      <td>-1</td>\n",
       "      <td>0</td>\n",
       "      <td>unknown</td>\n",
       "      <td>0</td>\n",
       "    </tr>\n",
       "    <tr>\n",
       "      <th>2</th>\n",
       "      <td>33</td>\n",
       "      <td>entrepreneur</td>\n",
       "      <td>married</td>\n",
       "      <td>secondary</td>\n",
       "      <td>2</td>\n",
       "      <td>yes</td>\n",
       "      <td>unknown</td>\n",
       "      <td>5</td>\n",
       "      <td>may</td>\n",
       "      <td>76</td>\n",
       "      <td>1</td>\n",
       "      <td>-1</td>\n",
       "      <td>0</td>\n",
       "      <td>unknown</td>\n",
       "      <td>0</td>\n",
       "    </tr>\n",
       "    <tr>\n",
       "      <th>3</th>\n",
       "      <td>47</td>\n",
       "      <td>blue-collar</td>\n",
       "      <td>married</td>\n",
       "      <td>unknown</td>\n",
       "      <td>1506</td>\n",
       "      <td>yes</td>\n",
       "      <td>unknown</td>\n",
       "      <td>5</td>\n",
       "      <td>may</td>\n",
       "      <td>92</td>\n",
       "      <td>1</td>\n",
       "      <td>-1</td>\n",
       "      <td>0</td>\n",
       "      <td>unknown</td>\n",
       "      <td>0</td>\n",
       "    </tr>\n",
       "    <tr>\n",
       "      <th>4</th>\n",
       "      <td>33</td>\n",
       "      <td>unknown</td>\n",
       "      <td>single</td>\n",
       "      <td>unknown</td>\n",
       "      <td>1</td>\n",
       "      <td>no</td>\n",
       "      <td>unknown</td>\n",
       "      <td>5</td>\n",
       "      <td>may</td>\n",
       "      <td>198</td>\n",
       "      <td>1</td>\n",
       "      <td>-1</td>\n",
       "      <td>0</td>\n",
       "      <td>unknown</td>\n",
       "      <td>0</td>\n",
       "    </tr>\n",
       "  </tbody>\n",
       "</table>\n",
       "</div>"
      ],
      "text/plain": [
       "   age           job  marital  education  balance housing  contact  day month  \\\n",
       "0   58    management  married   tertiary     2143     yes  unknown    5   may   \n",
       "1   44    technician   single  secondary       29     yes  unknown    5   may   \n",
       "2   33  entrepreneur  married  secondary        2     yes  unknown    5   may   \n",
       "3   47   blue-collar  married    unknown     1506     yes  unknown    5   may   \n",
       "4   33       unknown   single    unknown        1      no  unknown    5   may   \n",
       "\n",
       "   duration  campaign  pdays  previous poutcome  y  \n",
       "0       261         1     -1         0  unknown  0  \n",
       "1       151         1     -1         0  unknown  0  \n",
       "2        76         1     -1         0  unknown  0  \n",
       "3        92         1     -1         0  unknown  0  \n",
       "4       198         1     -1         0  unknown  0  "
      ]
     },
     "execution_count": 3,
     "metadata": {},
     "output_type": "execute_result"
    }
   ],
   "source": [
    "df = pd.read_csv(\"bank+marketing/bank/bank-full.csv\", sep=\";\")\n",
    "df = df.drop([\"default\", \"loan\"], axis=1)\n",
    "df[\"y\"] = (df.y == \"yes\").astype(int)\n",
    "\n",
    "df.head()"
   ]
  },
  {
   "cell_type": "code",
   "execution_count": 4,
   "id": "03701cec-e3ff-4b32-8aa5-24c4f4d708cc",
   "metadata": {},
   "outputs": [],
   "source": [
    "df_full_train, df_test = train_test_split(df, test_size=0.2, random_state=1)\n",
    "df_train, df_valid = train_test_split(df_full_train, test_size=0.25, random_state=1)\n",
    "\n",
    "df_train = df_train.reset_index(drop=True)\n",
    "df_valid = df_valid.reset_index(drop=True)\n",
    "df_test = df_test.reset_index(drop=True)\n",
    "\n",
    "y_train = df_train.y.values\n",
    "y_valid = df_valid.y.values\n",
    "y_test = df_test.y.values\n",
    "\n",
    "del df_train[\"y\"]\n",
    "del df_valid[\"y\"]\n",
    "del df_test[\"y\"]"
   ]
  },
  {
   "cell_type": "markdown",
   "id": "c097aa8c-cbfc-461c-8269-e6fc745e92ff",
   "metadata": {},
   "source": [
    "### No. 1"
   ]
  },
  {
   "cell_type": "code",
   "execution_count": 6,
   "id": "3c7b0c39-4e98-4c4e-a8e9-b92454ce754e",
   "metadata": {},
   "outputs": [
    {
     "name": "stdout",
     "output_type": "stream",
     "text": [
      "age: 0.512\n",
      "balance: 0.589\n",
      "day: 0.526\n",
      "duration: 0.815\n",
      "campaign: 0.571\n",
      "pdays: 0.590\n",
      "previous: 0.599\n"
     ]
    }
   ],
   "source": [
    "numerical = df_train.select_dtypes(include=\"number\").columns\n",
    "\n",
    "for num in numerical:\n",
    "    auc = roc_auc_score(y_train, df_train[num])\n",
    "    \n",
    "    if auc < 0.5:\n",
    "        auc = roc_auc_score(y_train, -df_train[num])\n",
    "\n",
    "    print(\"%s: %.3f\" % (num, auc))"
   ]
  },
  {
   "cell_type": "markdown",
   "id": "df2ccf43-ed66-49e4-9cf6-fe8762c1c29e",
   "metadata": {},
   "source": [
    "### No. 2"
   ]
  },
  {
   "cell_type": "code",
   "execution_count": 8,
   "id": "7036c507-7bd6-42c8-926a-8be839b0da57",
   "metadata": {},
   "outputs": [],
   "source": [
    "def train(df_train, y_train, C = 1.0):\n",
    "    dicts = df_train.to_dict(orient=\"records\")\n",
    "\n",
    "    dv = DictVectorizer(sparse=False)\n",
    "    X_train = dv.fit_transform(dicts)\n",
    "\n",
    "    model = LogisticRegression(solver='liblinear', C=C, max_iter=1000)\n",
    "    model.fit(X_train, y_train)\n",
    "\n",
    "    return dv, model"
   ]
  },
  {
   "cell_type": "code",
   "execution_count": 9,
   "id": "33de4cb8-5ba2-4083-a517-fe575d09c80f",
   "metadata": {},
   "outputs": [],
   "source": [
    "dv, model = train(df_train, y_train)"
   ]
  },
  {
   "cell_type": "code",
   "execution_count": 10,
   "id": "c96701c5-5ef4-4cd5-a08d-e7e5fc5b654e",
   "metadata": {},
   "outputs": [],
   "source": [
    "def predict(df, dv, model):\n",
    "    dicts = df.to_dict(orient=\"records\")\n",
    "    \n",
    "    X = dv.transform(dicts)\n",
    "    y_pred = model.predict_proba(X)[:, 1]\n",
    "\n",
    "    return y_pred"
   ]
  },
  {
   "cell_type": "code",
   "execution_count": 11,
   "id": "4849d5f9-18dd-456d-955c-41f0e7409e14",
   "metadata": {},
   "outputs": [],
   "source": [
    "y_pred = predict(df_valid, dv, model)"
   ]
  },
  {
   "cell_type": "code",
   "execution_count": 12,
   "id": "e1a081e3-3112-45dd-8298-a8582d4ecf1c",
   "metadata": {},
   "outputs": [
    {
     "data": {
      "text/plain": [
       "0.9"
      ]
     },
     "execution_count": 12,
     "metadata": {},
     "output_type": "execute_result"
    }
   ],
   "source": [
    "roc_auc_score(y_valid, y_pred).round(3)"
   ]
  },
  {
   "cell_type": "markdown",
   "id": "d2020faa-9ce4-4843-b275-ae2facad0ab1",
   "metadata": {},
   "source": [
    "### No. 3"
   ]
  },
  {
   "cell_type": "code",
   "execution_count": 14,
   "id": "28cfc5af-c87b-47d0-93a8-242c3b1dc930",
   "metadata": {},
   "outputs": [],
   "source": [
    "def confusion_matrix(y_valid, y_pred):\n",
    "    scores = []\n",
    "\n",
    "    thresholds = np.linspace(0, 1, 101)\n",
    "    \n",
    "    for t in thresholds:\n",
    "        actual_positive = (y_valid == 1)\n",
    "        actual_negative = (y_valid == 0)\n",
    "    \n",
    "        predict_positive = (y_pred >= t)\n",
    "        predict_negative = (y_pred < t)\n",
    "    \n",
    "        tp = (predict_positive & actual_positive).sum()\n",
    "        tn = (predict_negative & actual_negative).sum()\n",
    "        \n",
    "        fp = (predict_positive & actual_negative).sum()\n",
    "        fn = (predict_negative & actual_positive).sum()\n",
    "    \n",
    "        scores.append((t, tp, fp, fn, tn))\n",
    "    \n",
    "    columns = [\"thresholds\", \"tp\", \"fp\", \"fn\", \"tn\"]\n",
    "    df_scores = pd.DataFrame(scores, columns=columns)\n",
    "    \n",
    "    df_scores[\"precision\"] = df_scores.tp / (df_scores.tp + df_scores.fp)\n",
    "    df_scores[\"recall\"] = df_scores.tp / (df_scores.tp + df_scores.fn)\n",
    "\n",
    "    return df_scores"
   ]
  },
  {
   "cell_type": "code",
   "execution_count": 15,
   "id": "c2f5e260-4d48-4339-8fdb-edd12104aa4a",
   "metadata": {},
   "outputs": [
    {
     "data": {
      "text/html": [
       "<div>\n",
       "<style scoped>\n",
       "    .dataframe tbody tr th:only-of-type {\n",
       "        vertical-align: middle;\n",
       "    }\n",
       "\n",
       "    .dataframe tbody tr th {\n",
       "        vertical-align: top;\n",
       "    }\n",
       "\n",
       "    .dataframe thead th {\n",
       "        text-align: right;\n",
       "    }\n",
       "</style>\n",
       "<table border=\"1\" class=\"dataframe\">\n",
       "  <thead>\n",
       "    <tr style=\"text-align: right;\">\n",
       "      <th></th>\n",
       "      <th>thresholds</th>\n",
       "      <th>tp</th>\n",
       "      <th>fp</th>\n",
       "      <th>fn</th>\n",
       "      <th>tn</th>\n",
       "      <th>precision</th>\n",
       "      <th>recall</th>\n",
       "    </tr>\n",
       "  </thead>\n",
       "  <tbody>\n",
       "    <tr>\n",
       "      <th>0</th>\n",
       "      <td>0.0</td>\n",
       "      <td>1098</td>\n",
       "      <td>7944</td>\n",
       "      <td>0</td>\n",
       "      <td>0</td>\n",
       "      <td>0.121433</td>\n",
       "      <td>1.000000</td>\n",
       "    </tr>\n",
       "    <tr>\n",
       "      <th>10</th>\n",
       "      <td>0.1</td>\n",
       "      <td>926</td>\n",
       "      <td>1494</td>\n",
       "      <td>172</td>\n",
       "      <td>6450</td>\n",
       "      <td>0.382645</td>\n",
       "      <td>0.843352</td>\n",
       "    </tr>\n",
       "    <tr>\n",
       "      <th>20</th>\n",
       "      <td>0.2</td>\n",
       "      <td>711</td>\n",
       "      <td>691</td>\n",
       "      <td>387</td>\n",
       "      <td>7253</td>\n",
       "      <td>0.507133</td>\n",
       "      <td>0.647541</td>\n",
       "    </tr>\n",
       "    <tr>\n",
       "      <th>30</th>\n",
       "      <td>0.3</td>\n",
       "      <td>565</td>\n",
       "      <td>412</td>\n",
       "      <td>533</td>\n",
       "      <td>7532</td>\n",
       "      <td>0.578301</td>\n",
       "      <td>0.514572</td>\n",
       "    </tr>\n",
       "    <tr>\n",
       "      <th>40</th>\n",
       "      <td>0.4</td>\n",
       "      <td>459</td>\n",
       "      <td>273</td>\n",
       "      <td>639</td>\n",
       "      <td>7671</td>\n",
       "      <td>0.627049</td>\n",
       "      <td>0.418033</td>\n",
       "    </tr>\n",
       "    <tr>\n",
       "      <th>50</th>\n",
       "      <td>0.5</td>\n",
       "      <td>371</td>\n",
       "      <td>193</td>\n",
       "      <td>727</td>\n",
       "      <td>7751</td>\n",
       "      <td>0.657801</td>\n",
       "      <td>0.337887</td>\n",
       "    </tr>\n",
       "    <tr>\n",
       "      <th>60</th>\n",
       "      <td>0.6</td>\n",
       "      <td>290</td>\n",
       "      <td>137</td>\n",
       "      <td>808</td>\n",
       "      <td>7807</td>\n",
       "      <td>0.679157</td>\n",
       "      <td>0.264117</td>\n",
       "    </tr>\n",
       "    <tr>\n",
       "      <th>70</th>\n",
       "      <td>0.7</td>\n",
       "      <td>224</td>\n",
       "      <td>102</td>\n",
       "      <td>874</td>\n",
       "      <td>7842</td>\n",
       "      <td>0.687117</td>\n",
       "      <td>0.204007</td>\n",
       "    </tr>\n",
       "    <tr>\n",
       "      <th>80</th>\n",
       "      <td>0.8</td>\n",
       "      <td>148</td>\n",
       "      <td>69</td>\n",
       "      <td>950</td>\n",
       "      <td>7875</td>\n",
       "      <td>0.682028</td>\n",
       "      <td>0.134791</td>\n",
       "    </tr>\n",
       "    <tr>\n",
       "      <th>90</th>\n",
       "      <td>0.9</td>\n",
       "      <td>77</td>\n",
       "      <td>28</td>\n",
       "      <td>1021</td>\n",
       "      <td>7916</td>\n",
       "      <td>0.733333</td>\n",
       "      <td>0.070128</td>\n",
       "    </tr>\n",
       "    <tr>\n",
       "      <th>100</th>\n",
       "      <td>1.0</td>\n",
       "      <td>0</td>\n",
       "      <td>0</td>\n",
       "      <td>1098</td>\n",
       "      <td>7944</td>\n",
       "      <td>NaN</td>\n",
       "      <td>0.000000</td>\n",
       "    </tr>\n",
       "  </tbody>\n",
       "</table>\n",
       "</div>"
      ],
      "text/plain": [
       "     thresholds    tp    fp    fn    tn  precision    recall\n",
       "0           0.0  1098  7944     0     0   0.121433  1.000000\n",
       "10          0.1   926  1494   172  6450   0.382645  0.843352\n",
       "20          0.2   711   691   387  7253   0.507133  0.647541\n",
       "30          0.3   565   412   533  7532   0.578301  0.514572\n",
       "40          0.4   459   273   639  7671   0.627049  0.418033\n",
       "50          0.5   371   193   727  7751   0.657801  0.337887\n",
       "60          0.6   290   137   808  7807   0.679157  0.264117\n",
       "70          0.7   224   102   874  7842   0.687117  0.204007\n",
       "80          0.8   148    69   950  7875   0.682028  0.134791\n",
       "90          0.9    77    28  1021  7916   0.733333  0.070128\n",
       "100         1.0     0     0  1098  7944        NaN  0.000000"
      ]
     },
     "execution_count": 15,
     "metadata": {},
     "output_type": "execute_result"
    }
   ],
   "source": [
    "df_scores = confusion_matrix(y_valid, y_pred)\n",
    "df_scores[::10]"
   ]
  },
  {
   "cell_type": "code",
   "execution_count": 16,
   "id": "0f7ca8cd-c786-4ebc-9d2c-aa1ff6c316c2",
   "metadata": {},
   "outputs": [
    {
     "data": {
      "text/plain": [
       "<matplotlib.legend.Legend at 0x242871ff950>"
      ]
     },
     "execution_count": 16,
     "metadata": {},
     "output_type": "execute_result"
    },
    {
     "data": {
      "image/png": "[encoded data removed]",
      "text/plain": [
       "<Figure size 640x480 with 1 Axes>"
      ]
     },
     "metadata": {},
     "output_type": "display_data"
    }
   ],
   "source": [
    "plt.plot(df_scores.thresholds, df_scores.precision, label = \"Precision\")\n",
    "plt.plot(df_scores.thresholds, df_scores.recall, label = \"Recall\")\n",
    "\n",
    "plt.xlabel(\"thresholds\")\n",
    "\n",
    "plt.legend()"
   ]
  },
  {
   "cell_type": "markdown",
   "id": "63713d67-1fd6-46ed-be3f-e90462dee435",
   "metadata": {},
   "source": [
    "### No. 4"
   ]
  },
  {
   "cell_type": "code",
   "execution_count": 18,
   "id": "b1f2b60a-d767-452a-bdfe-9713a259d956",
   "metadata": {},
   "outputs": [
    {
     "data": {
      "text/html": [
       "<div>\n",
       "<style scoped>\n",
       "    .dataframe tbody tr th:only-of-type {\n",
       "        vertical-align: middle;\n",
       "    }\n",
       "\n",
       "    .dataframe tbody tr th {\n",
       "        vertical-align: top;\n",
       "    }\n",
       "\n",
       "    .dataframe thead th {\n",
       "        text-align: right;\n",
       "    }\n",
       "</style>\n",
       "<table border=\"1\" class=\"dataframe\">\n",
       "  <thead>\n",
       "    <tr style=\"text-align: right;\">\n",
       "      <th></th>\n",
       "      <th>thresholds</th>\n",
       "      <th>tp</th>\n",
       "      <th>fp</th>\n",
       "      <th>fn</th>\n",
       "      <th>tn</th>\n",
       "      <th>precision</th>\n",
       "      <th>recall</th>\n",
       "      <th>f1-score</th>\n",
       "    </tr>\n",
       "  </thead>\n",
       "  <tbody>\n",
       "    <tr>\n",
       "      <th>0</th>\n",
       "      <td>0.00</td>\n",
       "      <td>1098</td>\n",
       "      <td>7944</td>\n",
       "      <td>0</td>\n",
       "      <td>0</td>\n",
       "      <td>0.121433</td>\n",
       "      <td>1.000000</td>\n",
       "      <td>0.216568</td>\n",
       "    </tr>\n",
       "    <tr>\n",
       "      <th>1</th>\n",
       "      <td>0.01</td>\n",
       "      <td>1094</td>\n",
       "      <td>6974</td>\n",
       "      <td>4</td>\n",
       "      <td>970</td>\n",
       "      <td>0.135597</td>\n",
       "      <td>0.996357</td>\n",
       "      <td>0.238708</td>\n",
       "    </tr>\n",
       "    <tr>\n",
       "      <th>2</th>\n",
       "      <td>0.02</td>\n",
       "      <td>1093</td>\n",
       "      <td>5768</td>\n",
       "      <td>5</td>\n",
       "      <td>2176</td>\n",
       "      <td>0.159306</td>\n",
       "      <td>0.995446</td>\n",
       "      <td>0.274658</td>\n",
       "    </tr>\n",
       "    <tr>\n",
       "      <th>3</th>\n",
       "      <td>0.03</td>\n",
       "      <td>1087</td>\n",
       "      <td>4727</td>\n",
       "      <td>11</td>\n",
       "      <td>3217</td>\n",
       "      <td>0.186963</td>\n",
       "      <td>0.989982</td>\n",
       "      <td>0.314525</td>\n",
       "    </tr>\n",
       "    <tr>\n",
       "      <th>4</th>\n",
       "      <td>0.04</td>\n",
       "      <td>1065</td>\n",
       "      <td>3800</td>\n",
       "      <td>33</td>\n",
       "      <td>4144</td>\n",
       "      <td>0.218911</td>\n",
       "      <td>0.969945</td>\n",
       "      <td>0.357203</td>\n",
       "    </tr>\n",
       "    <tr>\n",
       "      <th>...</th>\n",
       "      <td>...</td>\n",
       "      <td>...</td>\n",
       "      <td>...</td>\n",
       "      <td>...</td>\n",
       "      <td>...</td>\n",
       "      <td>...</td>\n",
       "      <td>...</td>\n",
       "      <td>...</td>\n",
       "    </tr>\n",
       "    <tr>\n",
       "      <th>96</th>\n",
       "      <td>0.96</td>\n",
       "      <td>30</td>\n",
       "      <td>17</td>\n",
       "      <td>1068</td>\n",
       "      <td>7927</td>\n",
       "      <td>0.638298</td>\n",
       "      <td>0.027322</td>\n",
       "      <td>0.052402</td>\n",
       "    </tr>\n",
       "    <tr>\n",
       "      <th>97</th>\n",
       "      <td>0.97</td>\n",
       "      <td>25</td>\n",
       "      <td>15</td>\n",
       "      <td>1073</td>\n",
       "      <td>7929</td>\n",
       "      <td>0.625000</td>\n",
       "      <td>0.022769</td>\n",
       "      <td>0.043937</td>\n",
       "    </tr>\n",
       "    <tr>\n",
       "      <th>98</th>\n",
       "      <td>0.98</td>\n",
       "      <td>22</td>\n",
       "      <td>10</td>\n",
       "      <td>1076</td>\n",
       "      <td>7934</td>\n",
       "      <td>0.687500</td>\n",
       "      <td>0.020036</td>\n",
       "      <td>0.038938</td>\n",
       "    </tr>\n",
       "    <tr>\n",
       "      <th>99</th>\n",
       "      <td>0.99</td>\n",
       "      <td>11</td>\n",
       "      <td>5</td>\n",
       "      <td>1087</td>\n",
       "      <td>7939</td>\n",
       "      <td>0.687500</td>\n",
       "      <td>0.010018</td>\n",
       "      <td>0.019749</td>\n",
       "    </tr>\n",
       "    <tr>\n",
       "      <th>100</th>\n",
       "      <td>1.00</td>\n",
       "      <td>0</td>\n",
       "      <td>0</td>\n",
       "      <td>1098</td>\n",
       "      <td>7944</td>\n",
       "      <td>NaN</td>\n",
       "      <td>0.000000</td>\n",
       "      <td>NaN</td>\n",
       "    </tr>\n",
       "  </tbody>\n",
       "</table>\n",
       "<p>101 rows × 8 columns</p>\n",
       "</div>"
      ],
      "text/plain": [
       "     thresholds    tp    fp    fn    tn  precision    recall  f1-score\n",
       "0          0.00  1098  7944     0     0   0.121433  1.000000  0.216568\n",
       "1          0.01  1094  6974     4   970   0.135597  0.996357  0.238708\n",
       "2          0.02  1093  5768     5  2176   0.159306  0.995446  0.274658\n",
       "3          0.03  1087  4727    11  3217   0.186963  0.989982  0.314525\n",
       "4          0.04  1065  3800    33  4144   0.218911  0.969945  0.357203\n",
       "..          ...   ...   ...   ...   ...        ...       ...       ...\n",
       "96         0.96    30    17  1068  7927   0.638298  0.027322  0.052402\n",
       "97         0.97    25    15  1073  7929   0.625000  0.022769  0.043937\n",
       "98         0.98    22    10  1076  7934   0.687500  0.020036  0.038938\n",
       "99         0.99    11     5  1087  7939   0.687500  0.010018  0.019749\n",
       "100        1.00     0     0  1098  7944        NaN  0.000000       NaN\n",
       "\n",
       "[101 rows x 8 columns]"
      ]
     },
     "execution_count": 18,
     "metadata": {},
     "output_type": "execute_result"
    }
   ],
   "source": [
    "df_scores[\"f1-score\"] = 2* ((df_scores.precision * df_scores.recall) / (df_scores.precision + df_scores.recall))\n",
    "\n",
    "df_scores"
   ]
  },
  {
   "cell_type": "code",
   "execution_count": 19,
   "id": "a3652c31-6f70-499c-b2c6-c7cd7f2d5739",
   "metadata": {},
   "outputs": [
    {
     "data": {
      "text/html": [
       "<div>\n",
       "<style scoped>\n",
       "    .dataframe tbody tr th:only-of-type {\n",
       "        vertical-align: middle;\n",
       "    }\n",
       "\n",
       "    .dataframe tbody tr th {\n",
       "        vertical-align: top;\n",
       "    }\n",
       "\n",
       "    .dataframe thead th {\n",
       "        text-align: right;\n",
       "    }\n",
       "</style>\n",
       "<table border=\"1\" class=\"dataframe\">\n",
       "  <thead>\n",
       "    <tr style=\"text-align: right;\">\n",
       "      <th></th>\n",
       "      <th>thresholds</th>\n",
       "      <th>tp</th>\n",
       "      <th>fp</th>\n",
       "      <th>fn</th>\n",
       "      <th>tn</th>\n",
       "      <th>precision</th>\n",
       "      <th>recall</th>\n",
       "      <th>f1-score</th>\n",
       "    </tr>\n",
       "  </thead>\n",
       "  <tbody>\n",
       "    <tr>\n",
       "      <th>22</th>\n",
       "      <td>0.22</td>\n",
       "      <td>688</td>\n",
       "      <td>615</td>\n",
       "      <td>410</td>\n",
       "      <td>7329</td>\n",
       "      <td>0.528012</td>\n",
       "      <td>0.626594</td>\n",
       "      <td>0.573095</td>\n",
       "    </tr>\n",
       "  </tbody>\n",
       "</table>\n",
       "</div>"
      ],
      "text/plain": [
       "    thresholds   tp   fp   fn    tn  precision    recall  f1-score\n",
       "22        0.22  688  615  410  7329   0.528012  0.626594  0.573095"
      ]
     },
     "execution_count": 19,
     "metadata": {},
     "output_type": "execute_result"
    }
   ],
   "source": [
    "f1_score_max = df_scores[\"f1-score\"].max()\n",
    "\n",
    "df_scores[df_scores[\"f1-score\"] == f1_score_max]"
   ]
  },
  {
   "cell_type": "markdown",
   "id": "42596f1f-511f-42f9-afe5-70983e208516",
   "metadata": {},
   "source": [
    "### No. 5"
   ]
  },
  {
   "cell_type": "code",
   "execution_count": 21,
   "id": "12a720f0-3da5-4d66-899e-9793e2e110c4",
   "metadata": {},
   "outputs": [],
   "source": [
    "kfold = KFold(n_splits=5, shuffle=True, random_state=1)"
   ]
  },
  {
   "cell_type": "code",
   "execution_count": 22,
   "id": "4064d5c8-988a-43e2-b78e-236af4a80828",
   "metadata": {},
   "outputs": [
    {
     "data": {
      "text/plain": [
       "(array([    0,     1,     4, ..., 36165, 36166, 36167]),\n",
       " array([    2,     3,    11, ..., 36148, 36154, 36163]))"
      ]
     },
     "execution_count": 22,
     "metadata": {},
     "output_type": "execute_result"
    }
   ],
   "source": [
    "train_idx, valid_idx = next(kfold.split(df_full_train))\n",
    "train_idx, valid_idx"
   ]
  },
  {
   "cell_type": "code",
   "execution_count": 23,
   "id": "f1234398-11f2-4113-9d65-68911a9684bc",
   "metadata": {},
   "outputs": [],
   "source": [
    "scores = []\n",
    "\n",
    "for train_idx, valid_idx in kfold.split(df_full_train):\n",
    "    df_train = df_full_train.iloc[train_idx]\n",
    "    df_valid = df_full_train.iloc[valid_idx]\n",
    "\n",
    "    y_train = df_train.y.values\n",
    "    y_valid = df_valid.y.values\n",
    "\n",
    "    del df_train[\"y\"]\n",
    "    del df_valid[\"y\"]\n",
    "\n",
    "    dv, model = train(df_train, y_train)\n",
    "    y_pred = predict(df_valid, dv, model)\n",
    "\n",
    "    auc = roc_auc_score(y_valid, y_pred)\n",
    "    scores.append(auc)"
   ]
  },
  {
   "cell_type": "code",
   "execution_count": 24,
   "id": "66ee25af-a0e7-4ca7-a0c4-10c99734ff4b",
   "metadata": {},
   "outputs": [
    {
     "data": {
      "text/plain": [
       "[0.8993883806356288,\n",
       " 0.8989055268937651,\n",
       " 0.9112102229960733,\n",
       " 0.9080952264469403,\n",
       " 0.9100912737695956]"
      ]
     },
     "execution_count": 24,
     "metadata": {},
     "output_type": "execute_result"
    }
   ],
   "source": [
    "scores"
   ]
  },
  {
   "cell_type": "code",
   "execution_count": 25,
   "id": "940fd488-d715-470f-bf8f-db45cc772a36",
   "metadata": {},
   "outputs": [
    {
     "name": "stdout",
     "output_type": "stream",
     "text": [
      "STD: 0.005\n"
     ]
    }
   ],
   "source": [
    "print(\"STD: %.3f\" % np.std(scores))"
   ]
  },
  {
   "cell_type": "markdown",
   "id": "93545a72-3f54-46e1-8e7a-3d0961016c58",
   "metadata": {},
   "source": [
    "### No. 6"
   ]
  },
  {
   "cell_type": "code",
   "execution_count": 27,
   "id": "9f6473bd-06fe-4754-93b8-caa8133573b6",
   "metadata": {},
   "outputs": [
    {
     "name": "stdout",
     "output_type": "stream",
     "text": [
      "C = 1e-06 0.701\n",
      "C = 0.001 0.861\n",
      "C = 1 0.906\n"
     ]
    }
   ],
   "source": [
    "scores = []\n",
    "\n",
    "for C in ([0.000001, 0.001, 1]):\n",
    "    kfold = KFold(n_splits=5, shuffle=True, random_state=1)\n",
    "\n",
    "    scores = []\n",
    "    \n",
    "    for train_idx, valid_idx in kfold.split(df_full_train):\n",
    "        df_train = df_full_train.iloc[train_idx]\n",
    "        df_valid = df_full_train.iloc[valid_idx]\n",
    "    \n",
    "        y_train = df_train.y.values\n",
    "        y_valid = df_valid.y.values\n",
    "        \n",
    "        del df_train[\"y\"]\n",
    "        del df_valid[\"y\"]\n",
    "    \n",
    "        dv, model = train(df_train, y_train, C)\n",
    "        y_pred = predict(df_valid, dv, model)\n",
    "    \n",
    "        auc = roc_auc_score(y_valid, y_pred)\n",
    "        scores.append(auc)\n",
    "\n",
    "    print(\"C = %s %.3f\" % (C, np.mean(scores)))"
   ]
  }
 ],
 "metadata": {
  "kernelspec": {
   "display_name": "Python 3 (ipykernel)",
   "language": "python",
   "name": "python3"
  },
  "language_info": {
   "codemirror_mode": {
    "name": "ipython",
    "version": 3
   },
   "file_extension": ".py",
   "mimetype": "text/x-python",
   "name": "python",
   "nbconvert_exporter": "python",
   "pygments_lexer": "ipython3",
   "version": "3.11.5"
  }
 },
 "nbformat": 4,
 "nbformat_minor": 5
}
